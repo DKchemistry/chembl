{
 "cells": [
  {
   "cell_type": "code",
   "execution_count": 3,
   "metadata": {},
   "outputs": [
    {
     "name": "stdout",
     "output_type": "stream",
     "text": [
      "/Users/lkv206/work/to_do_projects/chembl_ligands/v2_GPCR-Bench-master\n"
     ]
    }
   ],
   "source": [
    "import papermill as pm\n",
    "import os \n",
    "\n",
    "print(os.getcwd())"
   ]
  },
  {
   "cell_type": "code",
   "execution_count": 4,
   "metadata": {},
   "outputs": [
    {
     "data": {
      "text/plain": [
       "{'title_suffix': {'name': 'title_suffix',\n",
       "  'inferred_type_name': 'None',\n",
       "  'default': '\"S1PR1\"',\n",
       "  'help': ''},\n",
       " 'file_path_sdf_active': {'name': 'file_path_sdf_active',\n",
       "  'inferred_type_name': 'None',\n",
       "  'default': '\"./S1PR1/docking/S1PR1_active_docking_lib_sorted.sdf\"',\n",
       "  'help': ''},\n",
       " 'file_path_sdf_decoy': {'name': 'file_path_sdf_decoy',\n",
       "  'inferred_type_name': 'None',\n",
       "  'default': '\"./S1PR1/docking/S1PR1_decoy_docking_lib_sorted.sdf\"',\n",
       "  'help': ''},\n",
       " 'file_path_strain_active': {'name': 'file_path_strain_active',\n",
       "  'inferred_type_name': 'None',\n",
       "  'default': '\"./S1PR1/strain/S1PR1_active_docking_lib_sorted.csv\"',\n",
       "  'help': ''},\n",
       " 'file_path_strain_decoy': {'name': 'file_path_strain_decoy',\n",
       "  'inferred_type_name': 'None',\n",
       "  'default': '\"./S1PR1/strain/S1PR1_decoy_docking_lib_sorted.csv\"',\n",
       "  'help': ''}}"
      ]
     },
     "execution_count": 4,
     "metadata": {},
     "output_type": "execute_result"
    }
   ],
   "source": [
    "pm.inspect_notebook('v2_gpcr_papermill.ipynb')\n"
   ]
  },
  {
   "cell_type": "code",
   "execution_count": 3,
   "metadata": {},
   "outputs": [],
   "source": [
    "# # execute_notebook(<input notebook>, <output notebook>, <dictionary of parameters>)\n",
    "\n",
    "# pm.execute_notebook(\n",
    "#     \"gpcr_papermill.ipynb\",\n",
    "#     \"./papermill/notebooks/gpcr_papermill_output.ipynb\",\n",
    "#     parameters={\n",
    "#         \"title_suffix\": \"GPR40\",\n",
    "#         \"file_path_sdf_active\": \"./GPR40/docking/GPR40_active_docking_lib_sorted.sdf\",\n",
    "#         \"file_path_sdf_decoy\": \"./GPR40/docking/GPR40_decoy_docking_lib_sorted.sdf\",\n",
    "#         \"file_path_strain_active\": \"./GPR40/strain/GPR40_active_docking_lib_sorted.csv\",\n",
    "#         \"file_path_strain_decoy\": \"./GPR40/strain/GPR40_decoy_docking_lib_sorted.csv\",\n",
    "#     },\n",
    "# )\n"
   ]
  },
  {
   "cell_type": "code",
   "execution_count": 4,
   "metadata": {},
   "outputs": [],
   "source": [
    "# parameters = {\n",
    "#     \"title_suffix\": \"GPR40\",\n",
    "#     \"file_path_sdf_active\": \"./GPR40/docking/GPR40_active_docking_lib_sorted.sdf\",\n",
    "#     \"file_path_sdf_decoy\": \"./GPR40/docking/GPR40_decoy_docking_lib_sorted.sdf\",\n",
    "#     \"file_path_strain_active\": \"./GPR40/strain/GPR40_active_docking_lib_sorted.csv\",\n",
    "#     \"file_path_strain_decoy\": \"./GPR40/strain/GPR40_decoy_docking_lib_sorted.csv\",\n",
    "# }\n",
    "\n",
    "# output_notebook = (\n",
    "#     f\"./papermill/notebooks/gpcr_papermill_output_{parameters['title_suffix']}.ipynb\"\n",
    "# )\n",
    "\n",
    "# pm.execute_notebook(\n",
    "#     \"gpcr_papermill.ipynb\",\n",
    "#     output_notebook,\n",
    "#     parameters=parameters,\n",
    "# )"
   ]
  },
  {
   "cell_type": "code",
   "execution_count": 5,
   "metadata": {},
   "outputs": [
    {
     "name": "stdout",
     "output_type": "stream",
     "text": [
      "[{'output_notebook': './papermill/notebooks/gpcr_papermill_output_GPR40.ipynb',\n",
      "  'parameters': {'file_path_sdf_active': './GPR40/docking/GPR40_active_docking_lib_sorted.sdf',\n",
      "                 'file_path_sdf_decoy': './GPR40/docking/GPR40_decoy_docking_lib_sorted.sdf',\n",
      "                 'file_path_strain_active': './GPR40/strain/GPR40_active_docking_lib_sorted.csv',\n",
      "                 'file_path_strain_decoy': './GPR40/strain/GPR40_decoy_docking_lib_sorted.csv',\n",
      "                 'title_suffix': 'GPR40'}},\n",
      " {'output_notebook': './papermill/notebooks/gpcr_papermill_output_ACM3.ipynb',\n",
      "  'parameters': {'file_path_sdf_active': './ACM3/docking/ACM3_active_docking_lib_sorted.sdf',\n",
      "                 'file_path_sdf_decoy': './ACM3/docking/ACM3_decoy_docking_lib_sorted.sdf',\n",
      "                 'file_path_strain_active': './ACM3/strain/ACM3_active_docking_lib_sorted.csv',\n",
      "                 'file_path_strain_decoy': './ACM3/strain/ACM3_decoy_docking_lib_sorted.csv',\n",
      "                 'title_suffix': 'ACM3'}},\n",
      " {'output_notebook': './papermill/notebooks/gpcr_papermill_output_MGLUR1.ipynb',\n",
      "  'parameters': {'file_path_sdf_active': './MGLUR1/docking/MGLUR1_active_docking_lib_sorted.sdf',\n",
      "                 'file_path_sdf_decoy': './MGLUR1/docking/MGLUR1_decoy_docking_lib_sorted.sdf',\n",
      "                 'file_path_strain_active': './MGLUR1/strain/MGLUR1_active_docking_lib_sorted.csv',\n",
      "                 'file_path_strain_decoy': './MGLUR1/strain/MGLUR1_decoy_docking_lib_sorted.csv',\n",
      "                 'title_suffix': 'MGLUR1'}},\n",
      " {'output_notebook': './papermill/notebooks/gpcr_papermill_output_ACM2.ipynb',\n",
      "  'parameters': {'file_path_sdf_active': './ACM2/docking/ACM2_active_docking_lib_sorted.sdf',\n",
      "                 'file_path_sdf_decoy': './ACM2/docking/ACM2_decoy_docking_lib_sorted.sdf',\n",
      "                 'file_path_strain_active': './ACM2/strain/ACM2_active_docking_lib_sorted.csv',\n",
      "                 'file_path_strain_decoy': './ACM2/strain/ACM2_decoy_docking_lib_sorted.csv',\n",
      "                 'title_suffix': 'ACM2'}},\n",
      " {'output_notebook': './papermill/notebooks/gpcr_papermill_output_SMO.ipynb',\n",
      "  'parameters': {'file_path_sdf_active': './SMO/docking/SMO_active_docking_lib_sorted.sdf',\n",
      "                 'file_path_sdf_decoy': './SMO/docking/SMO_decoy_docking_lib_sorted.sdf',\n",
      "                 'file_path_strain_active': './SMO/strain/SMO_active_docking_lib_sorted.csv',\n",
      "                 'file_path_strain_decoy': './SMO/strain/SMO_decoy_docking_lib_sorted.csv',\n",
      "                 'title_suffix': 'SMO'}},\n",
      " {'output_notebook': './papermill/notebooks/gpcr_papermill_output_S1PR1.ipynb',\n",
      "  'parameters': {'file_path_sdf_active': './S1PR1/docking/S1PR1_active_docking_lib_sorted.sdf',\n",
      "                 'file_path_sdf_decoy': './S1PR1/docking/S1PR1_decoy_docking_lib_sorted.sdf',\n",
      "                 'file_path_strain_active': './S1PR1/strain/S1PR1_active_docking_lib_sorted.csv',\n",
      "                 'file_path_strain_decoy': './S1PR1/strain/S1PR1_decoy_docking_lib_sorted.csv',\n",
      "                 'title_suffix': 'S1PR1'}},\n",
      " {'output_notebook': './papermill/notebooks/gpcr_papermill_output_AA2AR.ipynb',\n",
      "  'parameters': {'file_path_sdf_active': './AA2AR/docking/AA2AR_active_docking_lib_sorted.sdf',\n",
      "                 'file_path_sdf_decoy': './AA2AR/docking/AA2AR_decoy_docking_lib_sorted.sdf',\n",
      "                 'file_path_strain_active': './AA2AR/strain/AA2AR_active_docking_lib_sorted.csv',\n",
      "                 'file_path_strain_decoy': './AA2AR/strain/AA2AR_decoy_docking_lib_sorted.csv',\n",
      "                 'title_suffix': 'AA2AR'}},\n",
      " {'output_notebook': './papermill/notebooks/gpcr_papermill_output_P2Y12.ipynb',\n",
      "  'parameters': {'file_path_sdf_active': './P2Y12/docking/P2Y12_active_docking_lib_sorted.sdf',\n",
      "                 'file_path_sdf_decoy': './P2Y12/docking/P2Y12_decoy_docking_lib_sorted.sdf',\n",
      "                 'file_path_strain_active': './P2Y12/strain/P2Y12_active_docking_lib_sorted.csv',\n",
      "                 'file_path_strain_decoy': './P2Y12/strain/P2Y12_decoy_docking_lib_sorted.csv',\n",
      "                 'title_suffix': 'P2Y12'}},\n",
      " {'output_notebook': './papermill/notebooks/gpcr_papermill_output_ADRB2.ipynb',\n",
      "  'parameters': {'file_path_sdf_active': './ADRB2/docking/ADRB2_active_docking_lib_sorted.sdf',\n",
      "                 'file_path_sdf_decoy': './ADRB2/docking/ADRB2_decoy_docking_lib_sorted.sdf',\n",
      "                 'file_path_strain_active': './ADRB2/strain/ADRB2_active_docking_lib_sorted.csv',\n",
      "                 'file_path_strain_decoy': './ADRB2/strain/ADRB2_decoy_docking_lib_sorted.csv',\n",
      "                 'title_suffix': 'ADRB2'}},\n",
      " {'output_notebook': './papermill/notebooks/gpcr_papermill_output_DRD3.ipynb',\n",
      "  'parameters': {'file_path_sdf_active': './DRD3/docking/DRD3_active_docking_lib_sorted.sdf',\n",
      "                 'file_path_sdf_decoy': './DRD3/docking/DRD3_decoy_docking_lib_sorted.sdf',\n",
      "                 'file_path_strain_active': './DRD3/strain/DRD3_active_docking_lib_sorted.csv',\n",
      "                 'file_path_strain_decoy': './DRD3/strain/DRD3_decoy_docking_lib_sorted.csv',\n",
      "                 'title_suffix': 'DRD3'}},\n",
      " {'output_notebook': './papermill/notebooks/gpcr_papermill_output_MGLUR5.ipynb',\n",
      "  'parameters': {'file_path_sdf_active': './MGLUR5/docking/MGLUR5_active_docking_lib_sorted.sdf',\n",
      "                 'file_path_sdf_decoy': './MGLUR5/docking/MGLUR5_decoy_docking_lib_sorted.sdf',\n",
      "                 'file_path_strain_active': './MGLUR5/strain/MGLUR5_active_docking_lib_sorted.csv',\n",
      "                 'file_path_strain_decoy': './MGLUR5/strain/MGLUR5_decoy_docking_lib_sorted.csv',\n",
      "                 'title_suffix': 'MGLUR5'}},\n",
      " {'output_notebook': './papermill/notebooks/gpcr_papermill_output_CCR5.ipynb',\n",
      "  'parameters': {'file_path_sdf_active': './CCR5/docking/CCR5_active_docking_lib_sorted.sdf',\n",
      "                 'file_path_sdf_decoy': './CCR5/docking/CCR5_decoy_docking_lib_sorted.sdf',\n",
      "                 'file_path_strain_active': './CCR5/strain/CCR5_active_docking_lib_sorted.csv',\n",
      "                 'file_path_strain_decoy': './CCR5/strain/CCR5_decoy_docking_lib_sorted.csv',\n",
      "                 'title_suffix': 'CCR5'}},\n",
      " {'output_notebook': './papermill/notebooks/gpcr_papermill_output_OPRD.ipynb',\n",
      "  'parameters': {'file_path_sdf_active': './OPRD/docking/OPRD_active_docking_lib_sorted.sdf',\n",
      "                 'file_path_sdf_decoy': './OPRD/docking/OPRD_decoy_docking_lib_sorted.sdf',\n",
      "                 'file_path_strain_active': './OPRD/strain/OPRD_active_docking_lib_sorted.csv',\n",
      "                 'file_path_strain_decoy': './OPRD/strain/OPRD_decoy_docking_lib_sorted.csv',\n",
      "                 'title_suffix': 'OPRD'}},\n",
      " {'output_notebook': './papermill/notebooks/gpcr_papermill_output_OPRM.ipynb',\n",
      "  'parameters': {'file_path_sdf_active': './OPRM/docking/OPRM_active_docking_lib_sorted.sdf',\n",
      "                 'file_path_sdf_decoy': './OPRM/docking/OPRM_decoy_docking_lib_sorted.sdf',\n",
      "                 'file_path_strain_active': './OPRM/strain/OPRM_active_docking_lib_sorted.csv',\n",
      "                 'file_path_strain_decoy': './OPRM/strain/OPRM_decoy_docking_lib_sorted.csv',\n",
      "                 'title_suffix': 'OPRM'}},\n",
      " {'output_notebook': './papermill/notebooks/gpcr_papermill_output_OPRX.ipynb',\n",
      "  'parameters': {'file_path_sdf_active': './OPRX/docking/OPRX_active_docking_lib_sorted.sdf',\n",
      "                 'file_path_sdf_decoy': './OPRX/docking/OPRX_decoy_docking_lib_sorted.sdf',\n",
      "                 'file_path_strain_active': './OPRX/strain/OPRX_active_docking_lib_sorted.csv',\n",
      "                 'file_path_strain_decoy': './OPRX/strain/OPRX_decoy_docking_lib_sorted.csv',\n",
      "                 'title_suffix': 'OPRX'}},\n",
      " {'output_notebook': './papermill/notebooks/gpcr_papermill_output_PAR1.ipynb',\n",
      "  'parameters': {'file_path_sdf_active': './PAR1/docking/PAR1_active_docking_lib_sorted.sdf',\n",
      "                 'file_path_sdf_decoy': './PAR1/docking/PAR1_decoy_docking_lib_sorted.sdf',\n",
      "                 'file_path_strain_active': './PAR1/strain/PAR1_active_docking_lib_sorted.csv',\n",
      "                 'file_path_strain_decoy': './PAR1/strain/PAR1_decoy_docking_lib_sorted.csv',\n",
      "                 'title_suffix': 'PAR1'}},\n",
      " {'output_notebook': './papermill/notebooks/gpcr_papermill_output_OX2R.ipynb',\n",
      "  'parameters': {'file_path_sdf_active': './OX2R/docking/OX2R_active_docking_lib_sorted.sdf',\n",
      "                 'file_path_sdf_decoy': './OX2R/docking/OX2R_decoy_docking_lib_sorted.sdf',\n",
      "                 'file_path_strain_active': './OX2R/strain/OX2R_active_docking_lib_sorted.csv',\n",
      "                 'file_path_strain_decoy': './OX2R/strain/OX2R_decoy_docking_lib_sorted.csv',\n",
      "                 'title_suffix': 'OX2R'}},\n",
      " {'output_notebook': './papermill/notebooks/gpcr_papermill_output_OPRK.ipynb',\n",
      "  'parameters': {'file_path_sdf_active': './OPRK/docking/OPRK_active_docking_lib_sorted.sdf',\n",
      "                 'file_path_sdf_decoy': './OPRK/docking/OPRK_decoy_docking_lib_sorted.sdf',\n",
      "                 'file_path_strain_active': './OPRK/strain/OPRK_active_docking_lib_sorted.csv',\n",
      "                 'file_path_strain_decoy': './OPRK/strain/OPRK_decoy_docking_lib_sorted.csv',\n",
      "                 'title_suffix': 'OPRK'}},\n",
      " {'output_notebook': './papermill/notebooks/gpcr_papermill_output_CXCR4.ipynb',\n",
      "  'parameters': {'file_path_sdf_active': './CXCR4/docking/CXCR4_active_docking_lib_sorted.sdf',\n",
      "                 'file_path_sdf_decoy': './CXCR4/docking/CXCR4_decoy_docking_lib_sorted.sdf',\n",
      "                 'file_path_strain_active': './CXCR4/strain/CXCR4_active_docking_lib_sorted.csv',\n",
      "                 'file_path_strain_decoy': './CXCR4/strain/CXCR4_decoy_docking_lib_sorted.csv',\n",
      "                 'title_suffix': 'CXCR4'}},\n",
      " {'output_notebook': './papermill/notebooks/gpcr_papermill_output_CRFR1.ipynb',\n",
      "  'parameters': {'file_path_sdf_active': './CRFR1/docking/CRFR1_active_docking_lib_sorted.sdf',\n",
      "                 'file_path_sdf_decoy': './CRFR1/docking/CRFR1_decoy_docking_lib_sorted.sdf',\n",
      "                 'file_path_strain_active': './CRFR1/strain/CRFR1_active_docking_lib_sorted.csv',\n",
      "                 'file_path_strain_decoy': './CRFR1/strain/CRFR1_decoy_docking_lib_sorted.csv',\n",
      "                 'title_suffix': 'CRFR1'}},\n",
      " {'output_notebook': './papermill/notebooks/gpcr_papermill_output_HRH1.ipynb',\n",
      "  'parameters': {'file_path_sdf_active': './HRH1/docking/HRH1_active_docking_lib_sorted.sdf',\n",
      "                 'file_path_sdf_decoy': './HRH1/docking/HRH1_decoy_docking_lib_sorted.sdf',\n",
      "                 'file_path_strain_active': './HRH1/strain/HRH1_active_docking_lib_sorted.csv',\n",
      "                 'file_path_strain_decoy': './HRH1/strain/HRH1_decoy_docking_lib_sorted.csv',\n",
      "                 'title_suffix': 'HRH1'}},\n",
      " {'output_notebook': './papermill/notebooks/gpcr_papermill_output_ADRB1.ipynb',\n",
      "  'parameters': {'file_path_sdf_active': './ADRB1/docking/ADRB1_active_docking_lib_sorted.sdf',\n",
      "                 'file_path_sdf_decoy': './ADRB1/docking/ADRB1_decoy_docking_lib_sorted.sdf',\n",
      "                 'file_path_strain_active': './ADRB1/strain/ADRB1_active_docking_lib_sorted.csv',\n",
      "                 'file_path_strain_decoy': './ADRB1/strain/ADRB1_decoy_docking_lib_sorted.csv',\n",
      "                 'title_suffix': 'ADRB1'}}]\n"
     ]
    },
    {
     "data": {
      "application/vnd.jupyter.widget-view+json": {
       "model_id": "8dc872eed0e24b8e85fbd25c4eb079dc",
       "version_major": 2,
       "version_minor": 0
      },
      "text/plain": [
       "Executing:   0%|          | 0/129 [00:00<?, ?cell/s]"
      ]
     },
     "metadata": {},
     "output_type": "display_data"
    },
    {
     "name": "stderr",
     "output_type": "stream",
     "text": [
      "0.00s - Debugger warning: It seems that frozen modules are being used, which may\n",
      "0.00s - make the debugger miss breakpoints. Please pass -Xfrozen_modules=off\n",
      "0.00s - to python to disable frozen modules.\n",
      "0.00s - Note: Debugging will proceed. Set PYDEVD_DISABLE_FILE_VALIDATION=1 to disable this validation.\n"
     ]
    },
    {
     "data": {
      "application/vnd.jupyter.widget-view+json": {
       "model_id": "983b51cf3552472e9aee11b51a202d43",
       "version_major": 2,
       "version_minor": 0
      },
      "text/plain": [
       "Executing:   0%|          | 0/129 [00:00<?, ?cell/s]"
      ]
     },
     "metadata": {},
     "output_type": "display_data"
    },
    {
     "name": "stderr",
     "output_type": "stream",
     "text": [
      "0.01s - Debugger warning: It seems that frozen modules are being used, which may\n",
      "0.00s - make the debugger miss breakpoints. Please pass -Xfrozen_modules=off\n",
      "0.00s - to python to disable frozen modules.\n",
      "0.00s - Note: Debugging will proceed. Set PYDEVD_DISABLE_FILE_VALIDATION=1 to disable this validation.\n"
     ]
    },
    {
     "data": {
      "application/vnd.jupyter.widget-view+json": {
       "model_id": "48e647cbf01b4779979c13afd6a807f6",
       "version_major": 2,
       "version_minor": 0
      },
      "text/plain": [
       "Executing:   0%|          | 0/129 [00:00<?, ?cell/s]"
      ]
     },
     "metadata": {},
     "output_type": "display_data"
    },
    {
     "name": "stderr",
     "output_type": "stream",
     "text": [
      "0.00s - Debugger warning: It seems that frozen modules are being used, which may\n",
      "0.00s - make the debugger miss breakpoints. Please pass -Xfrozen_modules=off\n",
      "0.00s - to python to disable frozen modules.\n",
      "0.00s - Note: Debugging will proceed. Set PYDEVD_DISABLE_FILE_VALIDATION=1 to disable this validation.\n"
     ]
    },
    {
     "data": {
      "application/vnd.jupyter.widget-view+json": {
       "model_id": "740f5e3dfb0b44e1a96d9d04f4a0d99a",
       "version_major": 2,
       "version_minor": 0
      },
      "text/plain": [
       "Executing:   0%|          | 0/129 [00:00<?, ?cell/s]"
      ]
     },
     "metadata": {},
     "output_type": "display_data"
    },
    {
     "name": "stderr",
     "output_type": "stream",
     "text": [
      "0.00s - Debugger warning: It seems that frozen modules are being used, which may\n",
      "0.00s - make the debugger miss breakpoints. Please pass -Xfrozen_modules=off\n",
      "0.00s - to python to disable frozen modules.\n",
      "0.00s - Note: Debugging will proceed. Set PYDEVD_DISABLE_FILE_VALIDATION=1 to disable this validation.\n"
     ]
    },
    {
     "data": {
      "application/vnd.jupyter.widget-view+json": {
       "model_id": "ea50d6900752401d8510a5cc2d53f299",
       "version_major": 2,
       "version_minor": 0
      },
      "text/plain": [
       "Executing:   0%|          | 0/129 [00:00<?, ?cell/s]"
      ]
     },
     "metadata": {},
     "output_type": "display_data"
    },
    {
     "name": "stderr",
     "output_type": "stream",
     "text": [
      "0.01s - Debugger warning: It seems that frozen modules are being used, which may\n",
      "0.00s - make the debugger miss breakpoints. Please pass -Xfrozen_modules=off\n",
      "0.00s - to python to disable frozen modules.\n",
      "0.00s - Note: Debugging will proceed. Set PYDEVD_DISABLE_FILE_VALIDATION=1 to disable this validation.\n"
     ]
    },
    {
     "data": {
      "application/vnd.jupyter.widget-view+json": {
       "model_id": "47dc285aadaf4dbbb1bb11578237dae7",
       "version_major": 2,
       "version_minor": 0
      },
      "text/plain": [
       "Executing:   0%|          | 0/129 [00:00<?, ?cell/s]"
      ]
     },
     "metadata": {},
     "output_type": "display_data"
    },
    {
     "name": "stderr",
     "output_type": "stream",
     "text": [
      "0.00s - Debugger warning: It seems that frozen modules are being used, which may\n",
      "0.00s - make the debugger miss breakpoints. Please pass -Xfrozen_modules=off\n",
      "0.00s - to python to disable frozen modules.\n",
      "0.00s - Note: Debugging will proceed. Set PYDEVD_DISABLE_FILE_VALIDATION=1 to disable this validation.\n"
     ]
    },
    {
     "data": {
      "application/vnd.jupyter.widget-view+json": {
       "model_id": "e93c8916bc5f43f4b856a65481f7ad16",
       "version_major": 2,
       "version_minor": 0
      },
      "text/plain": [
       "Executing:   0%|          | 0/129 [00:00<?, ?cell/s]"
      ]
     },
     "metadata": {},
     "output_type": "display_data"
    },
    {
     "name": "stderr",
     "output_type": "stream",
     "text": [
      "0.00s - Debugger warning: It seems that frozen modules are being used, which may\n",
      "0.00s - make the debugger miss breakpoints. Please pass -Xfrozen_modules=off\n",
      "0.00s - to python to disable frozen modules.\n",
      "0.00s - Note: Debugging will proceed. Set PYDEVD_DISABLE_FILE_VALIDATION=1 to disable this validation.\n"
     ]
    },
    {
     "data": {
      "application/vnd.jupyter.widget-view+json": {
       "model_id": "9fa4c085f36e489496a665622bedf968",
       "version_major": 2,
       "version_minor": 0
      },
      "text/plain": [
       "Executing:   0%|          | 0/129 [00:00<?, ?cell/s]"
      ]
     },
     "metadata": {},
     "output_type": "display_data"
    },
    {
     "name": "stderr",
     "output_type": "stream",
     "text": [
      "0.00s - Debugger warning: It seems that frozen modules are being used, which may\n",
      "0.00s - make the debugger miss breakpoints. Please pass -Xfrozen_modules=off\n",
      "0.00s - to python to disable frozen modules.\n",
      "0.00s - Note: Debugging will proceed. Set PYDEVD_DISABLE_FILE_VALIDATION=1 to disable this validation.\n"
     ]
    },
    {
     "data": {
      "application/vnd.jupyter.widget-view+json": {
       "model_id": "d099a5d5cf4f4a0493457446d8dd40ab",
       "version_major": 2,
       "version_minor": 0
      },
      "text/plain": [
       "Executing:   0%|          | 0/129 [00:00<?, ?cell/s]"
      ]
     },
     "metadata": {},
     "output_type": "display_data"
    },
    {
     "name": "stderr",
     "output_type": "stream",
     "text": [
      "0.01s - Debugger warning: It seems that frozen modules are being used, which may\n",
      "0.00s - make the debugger miss breakpoints. Please pass -Xfrozen_modules=off\n",
      "0.00s - to python to disable frozen modules.\n",
      "0.00s - Note: Debugging will proceed. Set PYDEVD_DISABLE_FILE_VALIDATION=1 to disable this validation.\n"
     ]
    },
    {
     "data": {
      "application/vnd.jupyter.widget-view+json": {
       "model_id": "f6d43a2550834bbcb0e304b6d46b66c2",
       "version_major": 2,
       "version_minor": 0
      },
      "text/plain": [
       "Executing:   0%|          | 0/129 [00:00<?, ?cell/s]"
      ]
     },
     "metadata": {},
     "output_type": "display_data"
    },
    {
     "name": "stderr",
     "output_type": "stream",
     "text": [
      "0.00s - Debugger warning: It seems that frozen modules are being used, which may\n",
      "0.00s - make the debugger miss breakpoints. Please pass -Xfrozen_modules=off\n",
      "0.00s - to python to disable frozen modules.\n",
      "0.00s - Note: Debugging will proceed. Set PYDEVD_DISABLE_FILE_VALIDATION=1 to disable this validation.\n"
     ]
    },
    {
     "data": {
      "application/vnd.jupyter.widget-view+json": {
       "model_id": "a9976f794e754cde8b26738e9c6338db",
       "version_major": 2,
       "version_minor": 0
      },
      "text/plain": [
       "Executing:   0%|          | 0/129 [00:00<?, ?cell/s]"
      ]
     },
     "metadata": {},
     "output_type": "display_data"
    },
    {
     "name": "stderr",
     "output_type": "stream",
     "text": [
      "0.01s - Debugger warning: It seems that frozen modules are being used, which may\n",
      "0.00s - make the debugger miss breakpoints. Please pass -Xfrozen_modules=off\n",
      "0.00s - to python to disable frozen modules.\n",
      "0.00s - Note: Debugging will proceed. Set PYDEVD_DISABLE_FILE_VALIDATION=1 to disable this validation.\n"
     ]
    },
    {
     "data": {
      "application/vnd.jupyter.widget-view+json": {
       "model_id": "cb7f3a4fd5154943864018ab64030c83",
       "version_major": 2,
       "version_minor": 0
      },
      "text/plain": [
       "Executing:   0%|          | 0/129 [00:00<?, ?cell/s]"
      ]
     },
     "metadata": {},
     "output_type": "display_data"
    },
    {
     "name": "stderr",
     "output_type": "stream",
     "text": [
      "0.00s - Debugger warning: It seems that frozen modules are being used, which may\n",
      "0.00s - make the debugger miss breakpoints. Please pass -Xfrozen_modules=off\n",
      "0.00s - to python to disable frozen modules.\n",
      "0.00s - Note: Debugging will proceed. Set PYDEVD_DISABLE_FILE_VALIDATION=1 to disable this validation.\n"
     ]
    },
    {
     "data": {
      "application/vnd.jupyter.widget-view+json": {
       "model_id": "96fb09b01830494588ee182982a20114",
       "version_major": 2,
       "version_minor": 0
      },
      "text/plain": [
       "Executing:   0%|          | 0/129 [00:00<?, ?cell/s]"
      ]
     },
     "metadata": {},
     "output_type": "display_data"
    },
    {
     "name": "stderr",
     "output_type": "stream",
     "text": [
      "0.00s - Debugger warning: It seems that frozen modules are being used, which may\n",
      "0.00s - make the debugger miss breakpoints. Please pass -Xfrozen_modules=off\n",
      "0.00s - to python to disable frozen modules.\n",
      "0.00s - Note: Debugging will proceed. Set PYDEVD_DISABLE_FILE_VALIDATION=1 to disable this validation.\n"
     ]
    },
    {
     "data": {
      "application/vnd.jupyter.widget-view+json": {
       "model_id": "2b5df0d876ab4ba38db1d08e8070981a",
       "version_major": 2,
       "version_minor": 0
      },
      "text/plain": [
       "Executing:   0%|          | 0/129 [00:00<?, ?cell/s]"
      ]
     },
     "metadata": {},
     "output_type": "display_data"
    },
    {
     "name": "stderr",
     "output_type": "stream",
     "text": [
      "0.01s - Debugger warning: It seems that frozen modules are being used, which may\n",
      "0.00s - make the debugger miss breakpoints. Please pass -Xfrozen_modules=off\n",
      "0.00s - to python to disable frozen modules.\n",
      "0.00s - Note: Debugging will proceed. Set PYDEVD_DISABLE_FILE_VALIDATION=1 to disable this validation.\n"
     ]
    },
    {
     "data": {
      "application/vnd.jupyter.widget-view+json": {
       "model_id": "fff86cafb9924c3581ae9100e5b75c78",
       "version_major": 2,
       "version_minor": 0
      },
      "text/plain": [
       "Executing:   0%|          | 0/129 [00:00<?, ?cell/s]"
      ]
     },
     "metadata": {},
     "output_type": "display_data"
    },
    {
     "name": "stderr",
     "output_type": "stream",
     "text": [
      "0.00s - Debugger warning: It seems that frozen modules are being used, which may\n",
      "0.00s - make the debugger miss breakpoints. Please pass -Xfrozen_modules=off\n",
      "0.00s - to python to disable frozen modules.\n",
      "0.00s - Note: Debugging will proceed. Set PYDEVD_DISABLE_FILE_VALIDATION=1 to disable this validation.\n"
     ]
    },
    {
     "data": {
      "application/vnd.jupyter.widget-view+json": {
       "model_id": "d95130cace2d4136b2b04b90021f7bff",
       "version_major": 2,
       "version_minor": 0
      },
      "text/plain": [
       "Executing:   0%|          | 0/129 [00:00<?, ?cell/s]"
      ]
     },
     "metadata": {},
     "output_type": "display_data"
    },
    {
     "name": "stderr",
     "output_type": "stream",
     "text": [
      "0.00s - Debugger warning: It seems that frozen modules are being used, which may\n",
      "0.00s - make the debugger miss breakpoints. Please pass -Xfrozen_modules=off\n",
      "0.00s - to python to disable frozen modules.\n",
      "0.00s - Note: Debugging will proceed. Set PYDEVD_DISABLE_FILE_VALIDATION=1 to disable this validation.\n"
     ]
    },
    {
     "data": {
      "application/vnd.jupyter.widget-view+json": {
       "model_id": "58a324e2d30f439f8e08e0e4e3b1a19a",
       "version_major": 2,
       "version_minor": 0
      },
      "text/plain": [
       "Executing:   0%|          | 0/129 [00:00<?, ?cell/s]"
      ]
     },
     "metadata": {},
     "output_type": "display_data"
    },
    {
     "name": "stderr",
     "output_type": "stream",
     "text": [
      "0.01s - Debugger warning: It seems that frozen modules are being used, which may\n",
      "0.00s - make the debugger miss breakpoints. Please pass -Xfrozen_modules=off\n",
      "0.00s - to python to disable frozen modules.\n",
      "0.00s - Note: Debugging will proceed. Set PYDEVD_DISABLE_FILE_VALIDATION=1 to disable this validation.\n"
     ]
    },
    {
     "data": {
      "application/vnd.jupyter.widget-view+json": {
       "model_id": "76d0b7483fd44b00a85a98f4791bc2b8",
       "version_major": 2,
       "version_minor": 0
      },
      "text/plain": [
       "Executing:   0%|          | 0/129 [00:00<?, ?cell/s]"
      ]
     },
     "metadata": {},
     "output_type": "display_data"
    },
    {
     "name": "stderr",
     "output_type": "stream",
     "text": [
      "0.00s - Debugger warning: It seems that frozen modules are being used, which may\n",
      "0.00s - make the debugger miss breakpoints. Please pass -Xfrozen_modules=off\n",
      "0.00s - to python to disable frozen modules.\n",
      "0.00s - Note: Debugging will proceed. Set PYDEVD_DISABLE_FILE_VALIDATION=1 to disable this validation.\n"
     ]
    },
    {
     "data": {
      "application/vnd.jupyter.widget-view+json": {
       "model_id": "d4896a5833344031866368ba8fd84049",
       "version_major": 2,
       "version_minor": 0
      },
      "text/plain": [
       "Executing:   0%|          | 0/129 [00:00<?, ?cell/s]"
      ]
     },
     "metadata": {},
     "output_type": "display_data"
    },
    {
     "name": "stderr",
     "output_type": "stream",
     "text": [
      "0.00s - Debugger warning: It seems that frozen modules are being used, which may\n",
      "0.00s - make the debugger miss breakpoints. Please pass -Xfrozen_modules=off\n",
      "0.00s - to python to disable frozen modules.\n",
      "0.00s - Note: Debugging will proceed. Set PYDEVD_DISABLE_FILE_VALIDATION=1 to disable this validation.\n"
     ]
    },
    {
     "data": {
      "application/vnd.jupyter.widget-view+json": {
       "model_id": "0b8f510449e74d52987eb25e87d1373a",
       "version_major": 2,
       "version_minor": 0
      },
      "text/plain": [
       "Executing:   0%|          | 0/129 [00:00<?, ?cell/s]"
      ]
     },
     "metadata": {},
     "output_type": "display_data"
    },
    {
     "name": "stderr",
     "output_type": "stream",
     "text": [
      "0.00s - Debugger warning: It seems that frozen modules are being used, which may\n",
      "0.00s - make the debugger miss breakpoints. Please pass -Xfrozen_modules=off\n",
      "0.00s - to python to disable frozen modules.\n",
      "0.00s - Note: Debugging will proceed. Set PYDEVD_DISABLE_FILE_VALIDATION=1 to disable this validation.\n"
     ]
    },
    {
     "data": {
      "application/vnd.jupyter.widget-view+json": {
       "model_id": "5bdad93164d94f4299838b5f299b9aba",
       "version_major": 2,
       "version_minor": 0
      },
      "text/plain": [
       "Executing:   0%|          | 0/129 [00:00<?, ?cell/s]"
      ]
     },
     "metadata": {},
     "output_type": "display_data"
    },
    {
     "name": "stderr",
     "output_type": "stream",
     "text": [
      "0.01s - Debugger warning: It seems that frozen modules are being used, which may\n",
      "0.00s - make the debugger miss breakpoints. Please pass -Xfrozen_modules=off\n",
      "0.00s - to python to disable frozen modules.\n",
      "0.00s - Note: Debugging will proceed. Set PYDEVD_DISABLE_FILE_VALIDATION=1 to disable this validation.\n"
     ]
    },
    {
     "data": {
      "application/vnd.jupyter.widget-view+json": {
       "model_id": "92b8ae1577de4d9eb9467633723bf314",
       "version_major": 2,
       "version_minor": 0
      },
      "text/plain": [
       "Executing:   0%|          | 0/129 [00:00<?, ?cell/s]"
      ]
     },
     "metadata": {},
     "output_type": "display_data"
    },
    {
     "name": "stderr",
     "output_type": "stream",
     "text": [
      "0.00s - Debugger warning: It seems that frozen modules are being used, which may\n",
      "0.00s - make the debugger miss breakpoints. Please pass -Xfrozen_modules=off\n",
      "0.00s - to python to disable frozen modules.\n",
      "0.00s - Note: Debugging will proceed. Set PYDEVD_DISABLE_FILE_VALIDATION=1 to disable this validation.\n"
     ]
    }
   ],
   "source": [
    "import os\n",
    "import pprint\n",
    "\n",
    "# Get a list of all subfolders in the current working directory that start with a capital letter\n",
    "subfolders = [f.name for f in os.scandir(\".\") if f.is_dir() and f.name[0].isupper()]\n",
    "\n",
    "parameters_list = []\n",
    "\n",
    "# Create a parameters dictionary for each subfolder\n",
    "for subfolder in subfolders:\n",
    "    parameters = {\n",
    "        \"title_suffix\": subfolder,\n",
    "        \"file_path_sdf_active\": f\"./{subfolder}/docking/{subfolder}_active_docking_lib_sorted.sdf\",\n",
    "        \"file_path_sdf_decoy\": f\"./{subfolder}/docking/{subfolder}_decoy_docking_lib_sorted.sdf\",\n",
    "        \"file_path_strain_active\": f\"./{subfolder}/strain/{subfolder}_active_docking_lib_sorted.csv\",\n",
    "        \"file_path_strain_decoy\": f\"./{subfolder}/strain/{subfolder}_decoy_docking_lib_sorted.csv\",\n",
    "    }\n",
    "\n",
    "    output_notebook = f\"./papermill/notebooks/gpcr_papermill_output_{parameters['title_suffix']}.ipynb\"\n",
    "\n",
    "    parameters_list.append(\n",
    "        {\n",
    "            \"output_notebook\": output_notebook,\n",
    "            \"parameters\": parameters,\n",
    "        }\n",
    "    )\n",
    "\n",
    "pprint.pprint(parameters_list)\n",
    "\n",
    "# Execute the notebook for each set of parameters\n",
    "for params in parameters_list:\n",
    "    pm.execute_notebook(\n",
    "        \"v2_gpcr_papermill.ipynb\",\n",
    "        params[\"output_notebook\"],\n",
    "        parameters=params[\"parameters\"],\n",
    "    )"
   ]
  },
  {
   "cell_type": "code",
   "execution_count": 8,
   "metadata": {},
   "outputs": [
    {
     "name": "stdout",
     "output_type": "stream",
     "text": [
      "[{'output_notebook': './papermill/notebooks/gpcr_papermill_output_GPR40.ipynb',\n",
      "  'parameters': {'file_path_sdf_active': './GPR40/docking/GPR40_active_docking_lib_sorted.sdf',\n",
      "                 'file_path_sdf_decoy': './GPR40/docking/GPR40_decoy_docking_lib_sorted.sdf',\n",
      "                 'file_path_strain_active': './GPR40/strain/GPR40_active_docking_lib_sorted.csv',\n",
      "                 'file_path_strain_decoy': './GPR40/strain/GPR40_decoy_docking_lib_sorted.csv',\n",
      "                 'title_suffix': 'GPR40'}},\n",
      " {'output_notebook': './papermill/notebooks/gpcr_papermill_output_ACM3.ipynb',\n",
      "  'parameters': {'file_path_sdf_active': './ACM3/docking/ACM3_active_docking_lib_sorted.sdf',\n",
      "                 'file_path_sdf_decoy': './ACM3/docking/ACM3_decoy_docking_lib_sorted.sdf',\n",
      "                 'file_path_strain_active': './ACM3/strain/ACM3_active_docking_lib_sorted.csv',\n",
      "                 'file_path_strain_decoy': './ACM3/strain/ACM3_decoy_docking_lib_sorted.csv',\n",
      "                 'title_suffix': 'ACM3'}},\n",
      " {'output_notebook': './papermill/notebooks/gpcr_papermill_output_MGLUR1.ipynb',\n",
      "  'parameters': {'file_path_sdf_active': './MGLUR1/docking/MGLUR1_active_docking_lib_sorted.sdf',\n",
      "                 'file_path_sdf_decoy': './MGLUR1/docking/MGLUR1_decoy_docking_lib_sorted.sdf',\n",
      "                 'file_path_strain_active': './MGLUR1/strain/MGLUR1_active_docking_lib_sorted.csv',\n",
      "                 'file_path_strain_decoy': './MGLUR1/strain/MGLUR1_decoy_docking_lib_sorted.csv',\n",
      "                 'title_suffix': 'MGLUR1'}},\n",
      " {'output_notebook': './papermill/notebooks/gpcr_papermill_output_ACM2.ipynb',\n",
      "  'parameters': {'file_path_sdf_active': './ACM2/docking/ACM2_active_docking_lib_sorted.sdf',\n",
      "                 'file_path_sdf_decoy': './ACM2/docking/ACM2_decoy_docking_lib_sorted.sdf',\n",
      "                 'file_path_strain_active': './ACM2/strain/ACM2_active_docking_lib_sorted.csv',\n",
      "                 'file_path_strain_decoy': './ACM2/strain/ACM2_decoy_docking_lib_sorted.csv',\n",
      "                 'title_suffix': 'ACM2'}},\n",
      " {'output_notebook': './papermill/notebooks/gpcr_papermill_output_SMO.ipynb',\n",
      "  'parameters': {'file_path_sdf_active': './SMO/docking/SMO_active_docking_lib_sorted.sdf',\n",
      "                 'file_path_sdf_decoy': './SMO/docking/SMO_decoy_docking_lib_sorted.sdf',\n",
      "                 'file_path_strain_active': './SMO/strain/SMO_active_docking_lib_sorted.csv',\n",
      "                 'file_path_strain_decoy': './SMO/strain/SMO_decoy_docking_lib_sorted.csv',\n",
      "                 'title_suffix': 'SMO'}},\n",
      " {'output_notebook': './papermill/notebooks/gpcr_papermill_output_S1PR1.ipynb',\n",
      "  'parameters': {'file_path_sdf_active': './S1PR1/docking/S1PR1_active_docking_lib_sorted.sdf',\n",
      "                 'file_path_sdf_decoy': './S1PR1/docking/S1PR1_decoy_docking_lib_sorted.sdf',\n",
      "                 'file_path_strain_active': './S1PR1/strain/S1PR1_active_docking_lib_sorted.csv',\n",
      "                 'file_path_strain_decoy': './S1PR1/strain/S1PR1_decoy_docking_lib_sorted.csv',\n",
      "                 'title_suffix': 'S1PR1'}},\n",
      " {'output_notebook': './papermill/notebooks/gpcr_papermill_output_AA2AR.ipynb',\n",
      "  'parameters': {'file_path_sdf_active': './AA2AR/docking/AA2AR_active_docking_lib_sorted.sdf',\n",
      "                 'file_path_sdf_decoy': './AA2AR/docking/AA2AR_decoy_docking_lib_sorted.sdf',\n",
      "                 'file_path_strain_active': './AA2AR/strain/AA2AR_active_docking_lib_sorted.csv',\n",
      "                 'file_path_strain_decoy': './AA2AR/strain/AA2AR_decoy_docking_lib_sorted.csv',\n",
      "                 'title_suffix': 'AA2AR'}},\n",
      " {'output_notebook': './papermill/notebooks/gpcr_papermill_output_P2Y12.ipynb',\n",
      "  'parameters': {'file_path_sdf_active': './P2Y12/docking/P2Y12_active_docking_lib_sorted.sdf',\n",
      "                 'file_path_sdf_decoy': './P2Y12/docking/P2Y12_decoy_docking_lib_sorted.sdf',\n",
      "                 'file_path_strain_active': './P2Y12/strain/P2Y12_active_docking_lib_sorted.csv',\n",
      "                 'file_path_strain_decoy': './P2Y12/strain/P2Y12_decoy_docking_lib_sorted.csv',\n",
      "                 'title_suffix': 'P2Y12'}},\n",
      " {'output_notebook': './papermill/notebooks/gpcr_papermill_output_ADRB2.ipynb',\n",
      "  'parameters': {'file_path_sdf_active': './ADRB2/docking/ADRB2_active_docking_lib_sorted.sdf',\n",
      "                 'file_path_sdf_decoy': './ADRB2/docking/ADRB2_decoy_docking_lib_sorted.sdf',\n",
      "                 'file_path_strain_active': './ADRB2/strain/ADRB2_active_docking_lib_sorted.csv',\n",
      "                 'file_path_strain_decoy': './ADRB2/strain/ADRB2_decoy_docking_lib_sorted.csv',\n",
      "                 'title_suffix': 'ADRB2'}},\n",
      " {'output_notebook': './papermill/notebooks/gpcr_papermill_output_DRD3.ipynb',\n",
      "  'parameters': {'file_path_sdf_active': './DRD3/docking/DRD3_active_docking_lib_sorted.sdf',\n",
      "                 'file_path_sdf_decoy': './DRD3/docking/DRD3_decoy_docking_lib_sorted.sdf',\n",
      "                 'file_path_strain_active': './DRD3/strain/DRD3_active_docking_lib_sorted.csv',\n",
      "                 'file_path_strain_decoy': './DRD3/strain/DRD3_decoy_docking_lib_sorted.csv',\n",
      "                 'title_suffix': 'DRD3'}},\n",
      " {'output_notebook': './papermill/notebooks/gpcr_papermill_output_MGLUR5.ipynb',\n",
      "  'parameters': {'file_path_sdf_active': './MGLUR5/docking/MGLUR5_active_docking_lib_sorted.sdf',\n",
      "                 'file_path_sdf_decoy': './MGLUR5/docking/MGLUR5_decoy_docking_lib_sorted.sdf',\n",
      "                 'file_path_strain_active': './MGLUR5/strain/MGLUR5_active_docking_lib_sorted.csv',\n",
      "                 'file_path_strain_decoy': './MGLUR5/strain/MGLUR5_decoy_docking_lib_sorted.csv',\n",
      "                 'title_suffix': 'MGLUR5'}},\n",
      " {'output_notebook': './papermill/notebooks/gpcr_papermill_output_CCR5.ipynb',\n",
      "  'parameters': {'file_path_sdf_active': './CCR5/docking/CCR5_active_docking_lib_sorted.sdf',\n",
      "                 'file_path_sdf_decoy': './CCR5/docking/CCR5_decoy_docking_lib_sorted.sdf',\n",
      "                 'file_path_strain_active': './CCR5/strain/CCR5_active_docking_lib_sorted.csv',\n",
      "                 'file_path_strain_decoy': './CCR5/strain/CCR5_decoy_docking_lib_sorted.csv',\n",
      "                 'title_suffix': 'CCR5'}},\n",
      " {'output_notebook': './papermill/notebooks/gpcr_papermill_output_OPRD.ipynb',\n",
      "  'parameters': {'file_path_sdf_active': './OPRD/docking/OPRD_active_docking_lib_sorted.sdf',\n",
      "                 'file_path_sdf_decoy': './OPRD/docking/OPRD_decoy_docking_lib_sorted.sdf',\n",
      "                 'file_path_strain_active': './OPRD/strain/OPRD_active_docking_lib_sorted.csv',\n",
      "                 'file_path_strain_decoy': './OPRD/strain/OPRD_decoy_docking_lib_sorted.csv',\n",
      "                 'title_suffix': 'OPRD'}},\n",
      " {'output_notebook': './papermill/notebooks/gpcr_papermill_output_OPRM.ipynb',\n",
      "  'parameters': {'file_path_sdf_active': './OPRM/docking/OPRM_active_docking_lib_sorted.sdf',\n",
      "                 'file_path_sdf_decoy': './OPRM/docking/OPRM_decoy_docking_lib_sorted.sdf',\n",
      "                 'file_path_strain_active': './OPRM/strain/OPRM_active_docking_lib_sorted.csv',\n",
      "                 'file_path_strain_decoy': './OPRM/strain/OPRM_decoy_docking_lib_sorted.csv',\n",
      "                 'title_suffix': 'OPRM'}},\n",
      " {'output_notebook': './papermill/notebooks/gpcr_papermill_output_OPRX.ipynb',\n",
      "  'parameters': {'file_path_sdf_active': './OPRX/docking/OPRX_active_docking_lib_sorted.sdf',\n",
      "                 'file_path_sdf_decoy': './OPRX/docking/OPRX_decoy_docking_lib_sorted.sdf',\n",
      "                 'file_path_strain_active': './OPRX/strain/OPRX_active_docking_lib_sorted.csv',\n",
      "                 'file_path_strain_decoy': './OPRX/strain/OPRX_decoy_docking_lib_sorted.csv',\n",
      "                 'title_suffix': 'OPRX'}},\n",
      " {'output_notebook': './papermill/notebooks/gpcr_papermill_output_PAR1.ipynb',\n",
      "  'parameters': {'file_path_sdf_active': './PAR1/docking/PAR1_active_docking_lib_sorted.sdf',\n",
      "                 'file_path_sdf_decoy': './PAR1/docking/PAR1_decoy_docking_lib_sorted.sdf',\n",
      "                 'file_path_strain_active': './PAR1/strain/PAR1_active_docking_lib_sorted.csv',\n",
      "                 'file_path_strain_decoy': './PAR1/strain/PAR1_decoy_docking_lib_sorted.csv',\n",
      "                 'title_suffix': 'PAR1'}},\n",
      " {'output_notebook': './papermill/notebooks/gpcr_papermill_output_OX2R.ipynb',\n",
      "  'parameters': {'file_path_sdf_active': './OX2R/docking/OX2R_active_docking_lib_sorted.sdf',\n",
      "                 'file_path_sdf_decoy': './OX2R/docking/OX2R_decoy_docking_lib_sorted.sdf',\n",
      "                 'file_path_strain_active': './OX2R/strain/OX2R_active_docking_lib_sorted.csv',\n",
      "                 'file_path_strain_decoy': './OX2R/strain/OX2R_decoy_docking_lib_sorted.csv',\n",
      "                 'title_suffix': 'OX2R'}},\n",
      " {'output_notebook': './papermill/notebooks/gpcr_papermill_output_OPRK.ipynb',\n",
      "  'parameters': {'file_path_sdf_active': './OPRK/docking/OPRK_active_docking_lib_sorted.sdf',\n",
      "                 'file_path_sdf_decoy': './OPRK/docking/OPRK_decoy_docking_lib_sorted.sdf',\n",
      "                 'file_path_strain_active': './OPRK/strain/OPRK_active_docking_lib_sorted.csv',\n",
      "                 'file_path_strain_decoy': './OPRK/strain/OPRK_decoy_docking_lib_sorted.csv',\n",
      "                 'title_suffix': 'OPRK'}},\n",
      " {'output_notebook': './papermill/notebooks/gpcr_papermill_output_CXCR4.ipynb',\n",
      "  'parameters': {'file_path_sdf_active': './CXCR4/docking/CXCR4_active_docking_lib_sorted.sdf',\n",
      "                 'file_path_sdf_decoy': './CXCR4/docking/CXCR4_decoy_docking_lib_sorted.sdf',\n",
      "                 'file_path_strain_active': './CXCR4/strain/CXCR4_active_docking_lib_sorted.csv',\n",
      "                 'file_path_strain_decoy': './CXCR4/strain/CXCR4_decoy_docking_lib_sorted.csv',\n",
      "                 'title_suffix': 'CXCR4'}},\n",
      " {'output_notebook': './papermill/notebooks/gpcr_papermill_output_CRFR1.ipynb',\n",
      "  'parameters': {'file_path_sdf_active': './CRFR1/docking/CRFR1_active_docking_lib_sorted.sdf',\n",
      "                 'file_path_sdf_decoy': './CRFR1/docking/CRFR1_decoy_docking_lib_sorted.sdf',\n",
      "                 'file_path_strain_active': './CRFR1/strain/CRFR1_active_docking_lib_sorted.csv',\n",
      "                 'file_path_strain_decoy': './CRFR1/strain/CRFR1_decoy_docking_lib_sorted.csv',\n",
      "                 'title_suffix': 'CRFR1'}},\n",
      " {'output_notebook': './papermill/notebooks/gpcr_papermill_output_HRH1.ipynb',\n",
      "  'parameters': {'file_path_sdf_active': './HRH1/docking/HRH1_active_docking_lib_sorted.sdf',\n",
      "                 'file_path_sdf_decoy': './HRH1/docking/HRH1_decoy_docking_lib_sorted.sdf',\n",
      "                 'file_path_strain_active': './HRH1/strain/HRH1_active_docking_lib_sorted.csv',\n",
      "                 'file_path_strain_decoy': './HRH1/strain/HRH1_decoy_docking_lib_sorted.csv',\n",
      "                 'title_suffix': 'HRH1'}},\n",
      " {'output_notebook': './papermill/notebooks/gpcr_papermill_output_ADRB1.ipynb',\n",
      "  'parameters': {'file_path_sdf_active': './ADRB1/docking/ADRB1_active_docking_lib_sorted.sdf',\n",
      "                 'file_path_sdf_decoy': './ADRB1/docking/ADRB1_decoy_docking_lib_sorted.sdf',\n",
      "                 'file_path_strain_active': './ADRB1/strain/ADRB1_active_docking_lib_sorted.csv',\n",
      "                 'file_path_strain_decoy': './ADRB1/strain/ADRB1_decoy_docking_lib_sorted.csv',\n",
      "                 'title_suffix': 'ADRB1'}}]\n"
     ]
    }
   ],
   "source": [
    "pprint.pprint(parameters_list)"
   ]
  },
  {
   "cell_type": "code",
   "execution_count": null,
   "metadata": {},
   "outputs": [],
   "source": []
  }
 ],
 "metadata": {
  "kernelspec": {
   "display_name": "analytics_env",
   "language": "python",
   "name": "python3"
  },
  "language_info": {
   "codemirror_mode": {
    "name": "ipython",
    "version": 3
   },
   "file_extension": ".py",
   "mimetype": "text/x-python",
   "name": "python",
   "nbconvert_exporter": "python",
   "pygments_lexer": "ipython3",
   "version": "3.11.5"
  }
 },
 "nbformat": 4,
 "nbformat_minor": 2
}
