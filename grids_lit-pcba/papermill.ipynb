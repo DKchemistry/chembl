{
 "cells": [
  {
   "cell_type": "code",
   "execution_count": 18,
   "metadata": {},
   "outputs": [],
   "source": [
    "import papermill as pm\n",
    "import os\n",
    "import pprint\n",
    "import pandas as pd"
   ]
  },
  {
   "cell_type": "code",
   "execution_count": 19,
   "metadata": {},
   "outputs": [
    {
     "name": "stdout",
     "output_type": "stream",
     "text": [
      "/Users/lkv206/work/to_do_projects/chembl_ligands/grids_lit-pcba\n"
     ]
    }
   ],
   "source": [
    "print(os.getcwd())\n"
   ]
  },
  {
   "cell_type": "code",
   "execution_count": 20,
   "metadata": {},
   "outputs": [
    {
     "data": {
      "text/plain": [
       "{'title_suffix': {'name': 'title_suffix',\n",
       "  'inferred_type_name': 'None',\n",
       "  'default': '\"ADRB2-4lde\"',\n",
       "  'help': ''},\n",
       " 'file_path_sdf_active': {'name': 'file_path_sdf_active',\n",
       "  'inferred_type_name': 'None',\n",
       "  'default': '\"/Users/lkv206/work/to_do_projects/chembl_ligands/grids_lit-pcba/ADRB2/ADRB2-4lde_active_glide_lib_sorted.sdf\"',\n",
       "  'help': ''},\n",
       " 'file_path_sdf_decoy': {'name': 'file_path_sdf_decoy',\n",
       "  'inferred_type_name': 'None',\n",
       "  'default': '\"/Users/lkv206/work/to_do_projects/chembl_ligands/grids_lit-pcba/ADRB2/ADRB2-4lde_inactive_glide_lib_sorted.sdf\"',\n",
       "  'help': ''},\n",
       " 'file_path_strain_active': {'name': 'file_path_strain_active',\n",
       "  'inferred_type_name': 'None',\n",
       "  'default': '\"/Users/lkv206/work/to_do_projects/chembl_ligands/grids_lit-pcba/ADRB2/strain/ADRB2-4lde_active_glide_lib_sorted.csv\"',\n",
       "  'help': ''},\n",
       " 'file_path_strain_decoy': {'name': 'file_path_strain_decoy',\n",
       "  'inferred_type_name': 'None',\n",
       "  'default': '\"/Users/lkv206/work/to_do_projects/chembl_ligands/grids_lit-pcba/ADRB2/strain/ADRB2-4lde_inactive_glide_lib_sorted.csv\"',\n",
       "  'help': ''}}"
      ]
     },
     "execution_count": 20,
     "metadata": {},
     "output_type": "execute_result"
    }
   ],
   "source": [
    "pm.inspect_notebook(\"litpcba_papermill.ipynb\")\n"
   ]
  },
  {
   "cell_type": "code",
   "execution_count": 21,
   "metadata": {},
   "outputs": [],
   "source": [
    "best_res_lit_pcba = pd.read_csv(\"best_res_lit_pcba.csv\")\n"
   ]
  },
  {
   "cell_type": "code",
   "execution_count": 22,
   "metadata": {},
   "outputs": [
    {
     "data": {
      "text/html": [
       "<div>\n",
       "<style scoped>\n",
       "    .dataframe tbody tr th:only-of-type {\n",
       "        vertical-align: middle;\n",
       "    }\n",
       "\n",
       "    .dataframe tbody tr th {\n",
       "        vertical-align: top;\n",
       "    }\n",
       "\n",
       "    .dataframe thead th {\n",
       "        text-align: right;\n",
       "    }\n",
       "</style>\n",
       "<table border=\"1\" class=\"dataframe\">\n",
       "  <thead>\n",
       "    <tr style=\"text-align: right;\">\n",
       "      <th></th>\n",
       "      <th>Protein</th>\n",
       "      <th>PDB_ID</th>\n",
       "      <th>Resolution</th>\n",
       "      <th>Method</th>\n",
       "      <th>Description</th>\n",
       "      <th>Date</th>\n",
       "    </tr>\n",
       "  </thead>\n",
       "  <tbody>\n",
       "    <tr>\n",
       "      <th>0</th>\n",
       "      <td>ADRB2</td>\n",
       "      <td>4lde</td>\n",
       "      <td>2.79</td>\n",
       "      <td>X-ray diffraction</td>\n",
       "      <td>Structure of beta2 adrenoceptor bound to BI167...</td>\n",
       "      <td>20130925</td>\n",
       "    </tr>\n",
       "    <tr>\n",
       "      <th>1</th>\n",
       "      <td>ALDH1</td>\n",
       "      <td>5l2m</td>\n",
       "      <td>1.70</td>\n",
       "      <td>X-ray diffraction</td>\n",
       "      <td>Structure of ALDH1A1 in complex with BUC11</td>\n",
       "      <td>20170308</td>\n",
       "    </tr>\n",
       "    <tr>\n",
       "      <th>2</th>\n",
       "      <td>ESR1ago</td>\n",
       "      <td>2qzo</td>\n",
       "      <td>1.72</td>\n",
       "      <td>X-ray diffraction</td>\n",
       "      <td>Crystal Structure of the Estrogen Receptor Alp...</td>\n",
       "      <td>20080826</td>\n",
       "    </tr>\n",
       "    <tr>\n",
       "      <th>3</th>\n",
       "      <td>ESR1ant</td>\n",
       "      <td>2iog</td>\n",
       "      <td>1.60</td>\n",
       "      <td>X-ray diffraction</td>\n",
       "      <td>Human estrogen receptor alpha ligand-binding d...</td>\n",
       "      <td>20071009</td>\n",
       "    </tr>\n",
       "    <tr>\n",
       "      <th>4</th>\n",
       "      <td>FEN1</td>\n",
       "      <td>5fv7</td>\n",
       "      <td>2.84</td>\n",
       "      <td>X-ray diffraction</td>\n",
       "      <td>Human Fen1 in complex with an N-hydroxyurea co...</td>\n",
       "      <td>20160817</td>\n",
       "    </tr>\n",
       "    <tr>\n",
       "      <th>5</th>\n",
       "      <td>GBA</td>\n",
       "      <td>2v3d</td>\n",
       "      <td>1.96</td>\n",
       "      <td>X-ray diffraction</td>\n",
       "      <td>acid-beta-glucosidase with N-butyl-deoxynojiri...</td>\n",
       "      <td>20070814</td>\n",
       "    </tr>\n",
       "    <tr>\n",
       "      <th>6</th>\n",
       "      <td>IDH1</td>\n",
       "      <td>4umx</td>\n",
       "      <td>1.88</td>\n",
       "      <td>X-ray diffraction</td>\n",
       "      <td>IDH1 R132H in complex with cpd 1</td>\n",
       "      <td>20141119</td>\n",
       "    </tr>\n",
       "    <tr>\n",
       "      <th>7</th>\n",
       "      <td>KAT2A</td>\n",
       "      <td>5mlj</td>\n",
       "      <td>1.80</td>\n",
       "      <td>X-ray diffraction</td>\n",
       "      <td>Bromodomain of Human GCN5 with 4-bromo-2-methy...</td>\n",
       "      <td>20171220</td>\n",
       "    </tr>\n",
       "    <tr>\n",
       "      <th>8</th>\n",
       "      <td>MAPK1</td>\n",
       "      <td>4zzn</td>\n",
       "      <td>1.33</td>\n",
       "      <td>X-ray diffraction</td>\n",
       "      <td>Human ERK2 in complex with an inhibitor</td>\n",
       "      <td>20150527</td>\n",
       "    </tr>\n",
       "    <tr>\n",
       "      <th>9</th>\n",
       "      <td>MTORC1</td>\n",
       "      <td>4dri</td>\n",
       "      <td>1.45</td>\n",
       "      <td>X-ray diffraction</td>\n",
       "      <td>Co-crystal structure of the PPIase domain of F...</td>\n",
       "      <td>20130206</td>\n",
       "    </tr>\n",
       "    <tr>\n",
       "      <th>10</th>\n",
       "      <td>OPRK1</td>\n",
       "      <td>6b73</td>\n",
       "      <td>3.10</td>\n",
       "      <td>X-ray diffraction</td>\n",
       "      <td>Crystal Structure of a nanobody-stabilized act...</td>\n",
       "      <td>20180117</td>\n",
       "    </tr>\n",
       "    <tr>\n",
       "      <th>11</th>\n",
       "      <td>PKM2</td>\n",
       "      <td>3gr4</td>\n",
       "      <td>1.60</td>\n",
       "      <td>X-ray diffraction</td>\n",
       "      <td>Activator-Bound Structure of Human Pyruvate Ki...</td>\n",
       "      <td>20090407</td>\n",
       "    </tr>\n",
       "    <tr>\n",
       "      <th>12</th>\n",
       "      <td>PPARG</td>\n",
       "      <td>3b1m</td>\n",
       "      <td>1.60</td>\n",
       "      <td>X-ray diffraction</td>\n",
       "      <td>Crystal structure of the PPARgamma-LBD complex...</td>\n",
       "      <td>20110824</td>\n",
       "    </tr>\n",
       "    <tr>\n",
       "      <th>13</th>\n",
       "      <td>TP53</td>\n",
       "      <td>3zme</td>\n",
       "      <td>1.35</td>\n",
       "      <td>X-ray diffraction</td>\n",
       "      <td>Structure of the p53 core domain mutant Y220C ...</td>\n",
       "      <td>20130508</td>\n",
       "    </tr>\n",
       "    <tr>\n",
       "      <th>14</th>\n",
       "      <td>VDR</td>\n",
       "      <td>3a2j</td>\n",
       "      <td>2.70</td>\n",
       "      <td>X-ray diffraction</td>\n",
       "      <td>Crystal structure of the human vitamin D recep...</td>\n",
       "      <td>20100526</td>\n",
       "    </tr>\n",
       "  </tbody>\n",
       "</table>\n",
       "</div>"
      ],
      "text/plain": [
       "    Protein PDB_ID  Resolution             Method  \\\n",
       "0     ADRB2   4lde        2.79  X-ray diffraction   \n",
       "1     ALDH1   5l2m        1.70  X-ray diffraction   \n",
       "2   ESR1ago   2qzo        1.72  X-ray diffraction   \n",
       "3   ESR1ant   2iog        1.60  X-ray diffraction   \n",
       "4      FEN1   5fv7        2.84  X-ray diffraction   \n",
       "5       GBA   2v3d        1.96  X-ray diffraction   \n",
       "6      IDH1   4umx        1.88  X-ray diffraction   \n",
       "7     KAT2A   5mlj        1.80  X-ray diffraction   \n",
       "8     MAPK1   4zzn        1.33  X-ray diffraction   \n",
       "9    MTORC1   4dri        1.45  X-ray diffraction   \n",
       "10    OPRK1   6b73        3.10  X-ray diffraction   \n",
       "11     PKM2   3gr4        1.60  X-ray diffraction   \n",
       "12    PPARG   3b1m        1.60  X-ray diffraction   \n",
       "13     TP53   3zme        1.35  X-ray diffraction   \n",
       "14      VDR   3a2j        2.70  X-ray diffraction   \n",
       "\n",
       "                                          Description      Date  \n",
       "0   Structure of beta2 adrenoceptor bound to BI167...  20130925  \n",
       "1          Structure of ALDH1A1 in complex with BUC11  20170308  \n",
       "2   Crystal Structure of the Estrogen Receptor Alp...  20080826  \n",
       "3   Human estrogen receptor alpha ligand-binding d...  20071009  \n",
       "4   Human Fen1 in complex with an N-hydroxyurea co...  20160817  \n",
       "5   acid-beta-glucosidase with N-butyl-deoxynojiri...  20070814  \n",
       "6                    IDH1 R132H in complex with cpd 1  20141119  \n",
       "7   Bromodomain of Human GCN5 with 4-bromo-2-methy...  20171220  \n",
       "8             Human ERK2 in complex with an inhibitor  20150527  \n",
       "9   Co-crystal structure of the PPIase domain of F...  20130206  \n",
       "10  Crystal Structure of a nanobody-stabilized act...  20180117  \n",
       "11  Activator-Bound Structure of Human Pyruvate Ki...  20090407  \n",
       "12  Crystal structure of the PPARgamma-LBD complex...  20110824  \n",
       "13  Structure of the p53 core domain mutant Y220C ...  20130508  \n",
       "14  Crystal structure of the human vitamin D recep...  20100526  "
      ]
     },
     "execution_count": 22,
     "metadata": {},
     "output_type": "execute_result"
    }
   ],
   "source": [
    "best_res_lit_pcba\n"
   ]
  },
  {
   "cell_type": "code",
   "execution_count": 23,
   "metadata": {},
   "outputs": [
    {
     "data": {
      "text/plain": [
       "Index(['Protein', 'PDB_ID', 'Resolution', 'Method', 'Description', 'Date'], dtype='object')"
      ]
     },
     "execution_count": 23,
     "metadata": {},
     "output_type": "execute_result"
    }
   ],
   "source": [
    "best_res_lit_pcba.columns\n"
   ]
  },
  {
   "cell_type": "code",
   "execution_count": 24,
   "metadata": {},
   "outputs": [],
   "source": [
    "protein_pdbid = best_res_lit_pcba[[\"Protein\", \"PDB_ID\"]]\n"
   ]
  },
  {
   "cell_type": "code",
   "execution_count": 25,
   "metadata": {},
   "outputs": [
    {
     "data": {
      "text/plain": [
       "{'ADRB2': '4lde',\n",
       " 'ALDH1': '5l2m',\n",
       " 'ESR1ago': '2qzo',\n",
       " 'ESR1ant': '2iog',\n",
       " 'FEN1': '5fv7',\n",
       " 'GBA': '2v3d',\n",
       " 'IDH1': '4umx',\n",
       " 'KAT2A': '5mlj',\n",
       " 'MAPK1': '4zzn',\n",
       " 'MTORC1': '4dri',\n",
       " 'OPRK1': '6b73',\n",
       " 'PKM2': '3gr4',\n",
       " 'PPARG': '3b1m',\n",
       " 'TP53': '3zme',\n",
       " 'VDR': '3a2j'}"
      ]
     },
     "execution_count": 25,
     "metadata": {},
     "output_type": "execute_result"
    }
   ],
   "source": [
    "# convert protein_pdbid dataframe to dictionary, where protein is the key and PDB_ID is the value\n",
    "# we set the index of the dataframe to 'Protein', call 'PDB_ID' and then convert the pair to a dictionary\n",
    "protein_pdbid_dict = protein_pdbid.set_index(\"Protein\")[\"PDB_ID\"].to_dict()\n",
    "protein_pdbid_dict\n"
   ]
  },
  {
   "cell_type": "code",
   "execution_count": 26,
   "metadata": {},
   "outputs": [
    {
     "name": "stdout",
     "output_type": "stream",
     "text": [
      "['ADRB2-4lde', 'ALDH1-5l2m', 'ESR1ago-2qzo', 'ESR1ant-2iog', 'FEN1-5fv7', 'GBA-2v3d', 'IDH1-4umx', 'KAT2A-5mlj', 'MAPK1-4zzn', 'MTORC1-4dri', 'OPRK1-6b73', 'PKM2-3gr4', 'PPARG-3b1m', 'TP53-3zme', 'VDR-3a2j']\n"
     ]
    }
   ],
   "source": [
    "file_id = []\n",
    "for key, value in protein_pdbid_dict.items():\n",
    "    file_id.append(f\"{key}\" + \"-\" + f\"{value}\")\n",
    "\n",
    "print(file_id)"
   ]
  },
  {
   "cell_type": "code",
   "execution_count": 27,
   "metadata": {},
   "outputs": [
    {
     "name": "stdout",
     "output_type": "stream",
     "text": [
      "[{'output_notebook': '/Users/lkv206/work/to_do_projects/chembl_ligands/grids_lit-pcba/papermill/notebooks/ADRB2-4lde_litpcba_papermill.ipynb',\n",
      "  'parameters': {'file_path_sdf_active': '/Users/lkv206/work/to_do_projects/chembl_ligands/grids_lit-pcba/ADRB2/ADRB2-4lde_active_glide_lib_sorted.sdf',\n",
      "                 'file_path_sdf_decoy': '/Users/lkv206/work/to_do_projects/chembl_ligands/grids_lit-pcba/ADRB2/ADRB2-4lde_inactive_glide_lib_sorted.sdf',\n",
      "                 'file_path_strain_active': '/Users/lkv206/work/to_do_projects/chembl_ligands/grids_lit-pcba/ADRB2/strain/ADRB2-4lde_active_glide_lib_sorted.csv',\n",
      "                 'file_path_strain_decoy': '/Users/lkv206/work/to_do_projects/chembl_ligands/grids_lit-pcba/ADRB2/strain/ADRB2-4lde_inactive_glide_lib_sorted.csv',\n",
      "                 'title_suffix': 'ADRB2-4lde'}},\n",
      " {'output_notebook': '/Users/lkv206/work/to_do_projects/chembl_ligands/grids_lit-pcba/papermill/notebooks/ALDH1-5l2m_litpcba_papermill.ipynb',\n",
      "  'parameters': {'file_path_sdf_active': '/Users/lkv206/work/to_do_projects/chembl_ligands/grids_lit-pcba/ALDH1/ALDH1-5l2m_active_glide_lib_sorted.sdf',\n",
      "                 'file_path_sdf_decoy': '/Users/lkv206/work/to_do_projects/chembl_ligands/grids_lit-pcba/ALDH1/ALDH1-5l2m_inactive_glide_lib_sorted.sdf',\n",
      "                 'file_path_strain_active': '/Users/lkv206/work/to_do_projects/chembl_ligands/grids_lit-pcba/ALDH1/strain/ALDH1-5l2m_active_glide_lib_sorted.csv',\n",
      "                 'file_path_strain_decoy': '/Users/lkv206/work/to_do_projects/chembl_ligands/grids_lit-pcba/ALDH1/strain/ALDH1-5l2m_inactive_glide_lib_sorted.csv',\n",
      "                 'title_suffix': 'ALDH1-5l2m'}},\n",
      " {'output_notebook': '/Users/lkv206/work/to_do_projects/chembl_ligands/grids_lit-pcba/papermill/notebooks/ESR1ago-2qzo_litpcba_papermill.ipynb',\n",
      "  'parameters': {'file_path_sdf_active': '/Users/lkv206/work/to_do_projects/chembl_ligands/grids_lit-pcba/ESR1ago/ESR1ago-2qzo_active_glide_lib_sorted.sdf',\n",
      "                 'file_path_sdf_decoy': '/Users/lkv206/work/to_do_projects/chembl_ligands/grids_lit-pcba/ESR1ago/ESR1ago-2qzo_inactive_glide_lib_sorted.sdf',\n",
      "                 'file_path_strain_active': '/Users/lkv206/work/to_do_projects/chembl_ligands/grids_lit-pcba/ESR1ago/strain/ESR1ago-2qzo_active_glide_lib_sorted.csv',\n",
      "                 'file_path_strain_decoy': '/Users/lkv206/work/to_do_projects/chembl_ligands/grids_lit-pcba/ESR1ago/strain/ESR1ago-2qzo_inactive_glide_lib_sorted.csv',\n",
      "                 'title_suffix': 'ESR1ago-2qzo'}},\n",
      " {'output_notebook': '/Users/lkv206/work/to_do_projects/chembl_ligands/grids_lit-pcba/papermill/notebooks/ESR1ant-2iog_litpcba_papermill.ipynb',\n",
      "  'parameters': {'file_path_sdf_active': '/Users/lkv206/work/to_do_projects/chembl_ligands/grids_lit-pcba/ESR1ant/ESR1ant-2iog_active_glide_lib_sorted.sdf',\n",
      "                 'file_path_sdf_decoy': '/Users/lkv206/work/to_do_projects/chembl_ligands/grids_lit-pcba/ESR1ant/ESR1ant-2iog_inactive_glide_lib_sorted.sdf',\n",
      "                 'file_path_strain_active': '/Users/lkv206/work/to_do_projects/chembl_ligands/grids_lit-pcba/ESR1ant/strain/ESR1ant-2iog_active_glide_lib_sorted.csv',\n",
      "                 'file_path_strain_decoy': '/Users/lkv206/work/to_do_projects/chembl_ligands/grids_lit-pcba/ESR1ant/strain/ESR1ant-2iog_inactive_glide_lib_sorted.csv',\n",
      "                 'title_suffix': 'ESR1ant-2iog'}},\n",
      " {'output_notebook': '/Users/lkv206/work/to_do_projects/chembl_ligands/grids_lit-pcba/papermill/notebooks/FEN1-5fv7_litpcba_papermill.ipynb',\n",
      "  'parameters': {'file_path_sdf_active': '/Users/lkv206/work/to_do_projects/chembl_ligands/grids_lit-pcba/FEN1/FEN1-5fv7_active_glide_lib_sorted.sdf',\n",
      "                 'file_path_sdf_decoy': '/Users/lkv206/work/to_do_projects/chembl_ligands/grids_lit-pcba/FEN1/FEN1-5fv7_inactive_glide_lib_sorted.sdf',\n",
      "                 'file_path_strain_active': '/Users/lkv206/work/to_do_projects/chembl_ligands/grids_lit-pcba/FEN1/strain/FEN1-5fv7_active_glide_lib_sorted.csv',\n",
      "                 'file_path_strain_decoy': '/Users/lkv206/work/to_do_projects/chembl_ligands/grids_lit-pcba/FEN1/strain/FEN1-5fv7_inactive_glide_lib_sorted.csv',\n",
      "                 'title_suffix': 'FEN1-5fv7'}},\n",
      " {'output_notebook': '/Users/lkv206/work/to_do_projects/chembl_ligands/grids_lit-pcba/papermill/notebooks/GBA-2v3d_litpcba_papermill.ipynb',\n",
      "  'parameters': {'file_path_sdf_active': '/Users/lkv206/work/to_do_projects/chembl_ligands/grids_lit-pcba/GBA/GBA-2v3d_active_glide_lib_sorted.sdf',\n",
      "                 'file_path_sdf_decoy': '/Users/lkv206/work/to_do_projects/chembl_ligands/grids_lit-pcba/GBA/GBA-2v3d_inactive_glide_lib_sorted.sdf',\n",
      "                 'file_path_strain_active': '/Users/lkv206/work/to_do_projects/chembl_ligands/grids_lit-pcba/GBA/strain/GBA-2v3d_active_glide_lib_sorted.csv',\n",
      "                 'file_path_strain_decoy': '/Users/lkv206/work/to_do_projects/chembl_ligands/grids_lit-pcba/GBA/strain/GBA-2v3d_inactive_glide_lib_sorted.csv',\n",
      "                 'title_suffix': 'GBA-2v3d'}},\n",
      " {'output_notebook': '/Users/lkv206/work/to_do_projects/chembl_ligands/grids_lit-pcba/papermill/notebooks/IDH1-4umx_litpcba_papermill.ipynb',\n",
      "  'parameters': {'file_path_sdf_active': '/Users/lkv206/work/to_do_projects/chembl_ligands/grids_lit-pcba/IDH1/IDH1-4umx_active_glide_lib_sorted.sdf',\n",
      "                 'file_path_sdf_decoy': '/Users/lkv206/work/to_do_projects/chembl_ligands/grids_lit-pcba/IDH1/IDH1-4umx_inactive_glide_lib_sorted.sdf',\n",
      "                 'file_path_strain_active': '/Users/lkv206/work/to_do_projects/chembl_ligands/grids_lit-pcba/IDH1/strain/IDH1-4umx_active_glide_lib_sorted.csv',\n",
      "                 'file_path_strain_decoy': '/Users/lkv206/work/to_do_projects/chembl_ligands/grids_lit-pcba/IDH1/strain/IDH1-4umx_inactive_glide_lib_sorted.csv',\n",
      "                 'title_suffix': 'IDH1-4umx'}},\n",
      " {'output_notebook': '/Users/lkv206/work/to_do_projects/chembl_ligands/grids_lit-pcba/papermill/notebooks/KAT2A-5mlj_litpcba_papermill.ipynb',\n",
      "  'parameters': {'file_path_sdf_active': '/Users/lkv206/work/to_do_projects/chembl_ligands/grids_lit-pcba/KAT2A/KAT2A-5mlj_active_glide_lib_sorted.sdf',\n",
      "                 'file_path_sdf_decoy': '/Users/lkv206/work/to_do_projects/chembl_ligands/grids_lit-pcba/KAT2A/KAT2A-5mlj_inactive_glide_lib_sorted.sdf',\n",
      "                 'file_path_strain_active': '/Users/lkv206/work/to_do_projects/chembl_ligands/grids_lit-pcba/KAT2A/strain/KAT2A-5mlj_active_glide_lib_sorted.csv',\n",
      "                 'file_path_strain_decoy': '/Users/lkv206/work/to_do_projects/chembl_ligands/grids_lit-pcba/KAT2A/strain/KAT2A-5mlj_inactive_glide_lib_sorted.csv',\n",
      "                 'title_suffix': 'KAT2A-5mlj'}},\n",
      " {'output_notebook': '/Users/lkv206/work/to_do_projects/chembl_ligands/grids_lit-pcba/papermill/notebooks/MAPK1-4zzn_litpcba_papermill.ipynb',\n",
      "  'parameters': {'file_path_sdf_active': '/Users/lkv206/work/to_do_projects/chembl_ligands/grids_lit-pcba/MAPK1/MAPK1-4zzn_active_glide_lib_sorted.sdf',\n",
      "                 'file_path_sdf_decoy': '/Users/lkv206/work/to_do_projects/chembl_ligands/grids_lit-pcba/MAPK1/MAPK1-4zzn_inactive_glide_lib_sorted.sdf',\n",
      "                 'file_path_strain_active': '/Users/lkv206/work/to_do_projects/chembl_ligands/grids_lit-pcba/MAPK1/strain/MAPK1-4zzn_active_glide_lib_sorted.csv',\n",
      "                 'file_path_strain_decoy': '/Users/lkv206/work/to_do_projects/chembl_ligands/grids_lit-pcba/MAPK1/strain/MAPK1-4zzn_inactive_glide_lib_sorted.csv',\n",
      "                 'title_suffix': 'MAPK1-4zzn'}},\n",
      " {'output_notebook': '/Users/lkv206/work/to_do_projects/chembl_ligands/grids_lit-pcba/papermill/notebooks/MTORC1-4dri_litpcba_papermill.ipynb',\n",
      "  'parameters': {'file_path_sdf_active': '/Users/lkv206/work/to_do_projects/chembl_ligands/grids_lit-pcba/MTORC1/MTORC1-4dri_active_glide_lib_sorted.sdf',\n",
      "                 'file_path_sdf_decoy': '/Users/lkv206/work/to_do_projects/chembl_ligands/grids_lit-pcba/MTORC1/MTORC1-4dri_inactive_glide_lib_sorted.sdf',\n",
      "                 'file_path_strain_active': '/Users/lkv206/work/to_do_projects/chembl_ligands/grids_lit-pcba/MTORC1/strain/MTORC1-4dri_active_glide_lib_sorted.csv',\n",
      "                 'file_path_strain_decoy': '/Users/lkv206/work/to_do_projects/chembl_ligands/grids_lit-pcba/MTORC1/strain/MTORC1-4dri_inactive_glide_lib_sorted.csv',\n",
      "                 'title_suffix': 'MTORC1-4dri'}},\n",
      " {'output_notebook': '/Users/lkv206/work/to_do_projects/chembl_ligands/grids_lit-pcba/papermill/notebooks/OPRK1-6b73_litpcba_papermill.ipynb',\n",
      "  'parameters': {'file_path_sdf_active': '/Users/lkv206/work/to_do_projects/chembl_ligands/grids_lit-pcba/OPRK1/OPRK1-6b73_active_glide_lib_sorted.sdf',\n",
      "                 'file_path_sdf_decoy': '/Users/lkv206/work/to_do_projects/chembl_ligands/grids_lit-pcba/OPRK1/OPRK1-6b73_inactive_glide_lib_sorted.sdf',\n",
      "                 'file_path_strain_active': '/Users/lkv206/work/to_do_projects/chembl_ligands/grids_lit-pcba/OPRK1/strain/OPRK1-6b73_active_glide_lib_sorted.csv',\n",
      "                 'file_path_strain_decoy': '/Users/lkv206/work/to_do_projects/chembl_ligands/grids_lit-pcba/OPRK1/strain/OPRK1-6b73_inactive_glide_lib_sorted.csv',\n",
      "                 'title_suffix': 'OPRK1-6b73'}},\n",
      " {'output_notebook': '/Users/lkv206/work/to_do_projects/chembl_ligands/grids_lit-pcba/papermill/notebooks/PKM2-3gr4_litpcba_papermill.ipynb',\n",
      "  'parameters': {'file_path_sdf_active': '/Users/lkv206/work/to_do_projects/chembl_ligands/grids_lit-pcba/PKM2/PKM2-3gr4_active_glide_lib_sorted.sdf',\n",
      "                 'file_path_sdf_decoy': '/Users/lkv206/work/to_do_projects/chembl_ligands/grids_lit-pcba/PKM2/PKM2-3gr4_inactive_glide_lib_sorted.sdf',\n",
      "                 'file_path_strain_active': '/Users/lkv206/work/to_do_projects/chembl_ligands/grids_lit-pcba/PKM2/strain/PKM2-3gr4_active_glide_lib_sorted.csv',\n",
      "                 'file_path_strain_decoy': '/Users/lkv206/work/to_do_projects/chembl_ligands/grids_lit-pcba/PKM2/strain/PKM2-3gr4_inactive_glide_lib_sorted.csv',\n",
      "                 'title_suffix': 'PKM2-3gr4'}},\n",
      " {'output_notebook': '/Users/lkv206/work/to_do_projects/chembl_ligands/grids_lit-pcba/papermill/notebooks/PPARG-3b1m_litpcba_papermill.ipynb',\n",
      "  'parameters': {'file_path_sdf_active': '/Users/lkv206/work/to_do_projects/chembl_ligands/grids_lit-pcba/PPARG/PPARG-3b1m_active_glide_lib_sorted.sdf',\n",
      "                 'file_path_sdf_decoy': '/Users/lkv206/work/to_do_projects/chembl_ligands/grids_lit-pcba/PPARG/PPARG-3b1m_inactive_glide_lib_sorted.sdf',\n",
      "                 'file_path_strain_active': '/Users/lkv206/work/to_do_projects/chembl_ligands/grids_lit-pcba/PPARG/strain/PPARG-3b1m_active_glide_lib_sorted.csv',\n",
      "                 'file_path_strain_decoy': '/Users/lkv206/work/to_do_projects/chembl_ligands/grids_lit-pcba/PPARG/strain/PPARG-3b1m_inactive_glide_lib_sorted.csv',\n",
      "                 'title_suffix': 'PPARG-3b1m'}},\n",
      " {'output_notebook': '/Users/lkv206/work/to_do_projects/chembl_ligands/grids_lit-pcba/papermill/notebooks/TP53-3zme_litpcba_papermill.ipynb',\n",
      "  'parameters': {'file_path_sdf_active': '/Users/lkv206/work/to_do_projects/chembl_ligands/grids_lit-pcba/TP53/TP53-3zme_active_glide_lib_sorted.sdf',\n",
      "                 'file_path_sdf_decoy': '/Users/lkv206/work/to_do_projects/chembl_ligands/grids_lit-pcba/TP53/TP53-3zme_inactive_glide_lib_sorted.sdf',\n",
      "                 'file_path_strain_active': '/Users/lkv206/work/to_do_projects/chembl_ligands/grids_lit-pcba/TP53/strain/TP53-3zme_active_glide_lib_sorted.csv',\n",
      "                 'file_path_strain_decoy': '/Users/lkv206/work/to_do_projects/chembl_ligands/grids_lit-pcba/TP53/strain/TP53-3zme_inactive_glide_lib_sorted.csv',\n",
      "                 'title_suffix': 'TP53-3zme'}},\n",
      " {'output_notebook': '/Users/lkv206/work/to_do_projects/chembl_ligands/grids_lit-pcba/papermill/notebooks/VDR-3a2j_litpcba_papermill.ipynb',\n",
      "  'parameters': {'file_path_sdf_active': '/Users/lkv206/work/to_do_projects/chembl_ligands/grids_lit-pcba/VDR/VDR-3a2j_active_glide_lib_sorted.sdf',\n",
      "                 'file_path_sdf_decoy': '/Users/lkv206/work/to_do_projects/chembl_ligands/grids_lit-pcba/VDR/VDR-3a2j_inactive_glide_lib_sorted.sdf',\n",
      "                 'file_path_strain_active': '/Users/lkv206/work/to_do_projects/chembl_ligands/grids_lit-pcba/VDR/strain/VDR-3a2j_active_glide_lib_sorted.csv',\n",
      "                 'file_path_strain_decoy': '/Users/lkv206/work/to_do_projects/chembl_ligands/grids_lit-pcba/VDR/strain/VDR-3a2j_inactive_glide_lib_sorted.csv',\n",
      "                 'title_suffix': 'VDR-3a2j'}}]\n",
      "15\n"
     ]
    }
   ],
   "source": [
    "base_path = os.getcwd()\n",
    "\n",
    "parameters_list = []\n",
    "\n",
    "for id in file_id:\n",
    "    protein_name, _ = id.split(\"-\")  # Split the id to extract the protein name.\n",
    "\n",
    "    parameters_dict = {}\n",
    "    # Construct the path for output_notebook relative to base_path\n",
    "    parameters_dict[\"output_notebook\"] = os.path.join(\n",
    "        base_path, \"papermill\", \"notebooks\", (id + \"_litpcba_papermill.ipynb\")\n",
    "    )\n",
    "    parameters_dict[\"parameters\"] = {}\n",
    "    parameters_dict[\"parameters\"][\"title_suffix\"] = id\n",
    "\n",
    "    for dirpath, dirnames, filenames in os.walk(base_path):\n",
    "        for filename in filenames:\n",
    "            # Construct each path by checking if the filename ends with the required suffix\n",
    "            if filename.endswith(f\"{id}_active_glide_lib_sorted.sdf\"):\n",
    "                # Join the path without repeating the base path\n",
    "                parameters_dict[\"parameters\"][\"file_path_sdf_active\"] = os.path.join(\n",
    "                    dirpath, filename\n",
    "                )\n",
    "            if filename.endswith(f\"{id}_inactive_glide_lib_sorted.sdf\"):\n",
    "                parameters_dict[\"parameters\"][\"file_path_sdf_decoy\"] = os.path.join(\n",
    "                    dirpath, filename\n",
    "                )\n",
    "            if filename.endswith(f\"{id}_active_glide_lib_sorted.csv\"):\n",
    "                parameters_dict[\"parameters\"][\"file_path_strain_active\"] = os.path.join(\n",
    "                    dirpath, filename\n",
    "                )\n",
    "            if filename.endswith(f\"{id}_inactive_glide_lib_sorted.csv\"):\n",
    "                parameters_dict[\"parameters\"][\"file_path_strain_decoy\"] = os.path.join(\n",
    "                    dirpath, filename\n",
    "                )\n",
    "    parameters_list.append(parameters_dict)\n",
    "\n",
    "# pprint.pprint(parameters_list)\n",
    "pprint.pprint(parameters_list)\n",
    "print(len(parameters_list))"
   ]
  },
  {
   "cell_type": "code",
   "execution_count": 28,
   "metadata": {},
   "outputs": [
    {
     "name": "stdout",
     "output_type": "stream",
     "text": [
      "litpcba_papermill.ipynb /Users/lkv206/work/to_do_projects/chembl_ligands/grids_lit-pcba/papermill/notebooks/ADRB2-4lde_litpcba_papermill.ipynb {'title_suffix': 'ADRB2-4lde', 'file_path_sdf_active': '/Users/lkv206/work/to_do_projects/chembl_ligands/grids_lit-pcba/ADRB2/ADRB2-4lde_active_glide_lib_sorted.sdf', 'file_path_sdf_decoy': '/Users/lkv206/work/to_do_projects/chembl_ligands/grids_lit-pcba/ADRB2/ADRB2-4lde_inactive_glide_lib_sorted.sdf', 'file_path_strain_decoy': '/Users/lkv206/work/to_do_projects/chembl_ligands/grids_lit-pcba/ADRB2/strain/ADRB2-4lde_inactive_glide_lib_sorted.csv', 'file_path_strain_active': '/Users/lkv206/work/to_do_projects/chembl_ligands/grids_lit-pcba/ADRB2/strain/ADRB2-4lde_active_glide_lib_sorted.csv'}\n"
     ]
    },
    {
     "data": {
      "application/vnd.jupyter.widget-view+json": {
       "model_id": "84be5ec3a2b741c0af427f2c1acdae34",
       "version_major": 2,
       "version_minor": 0
      },
      "text/plain": [
       "Executing:   0%|          | 0/105 [00:00<?, ?cell/s]"
      ]
     },
     "metadata": {},
     "output_type": "display_data"
    },
    {
     "name": "stderr",
     "output_type": "stream",
     "text": [
      "0.00s - Debugger warning: It seems that frozen modules are being used, which may\n",
      "0.00s - make the debugger miss breakpoints. Please pass -Xfrozen_modules=off\n",
      "0.00s - to python to disable frozen modules.\n",
      "0.00s - Note: Debugging will proceed. Set PYDEVD_DISABLE_FILE_VALIDATION=1 to disable this validation.\n"
     ]
    },
    {
     "name": "stdout",
     "output_type": "stream",
     "text": [
      "litpcba_papermill.ipynb /Users/lkv206/work/to_do_projects/chembl_ligands/grids_lit-pcba/papermill/notebooks/ALDH1-5l2m_litpcba_papermill.ipynb {'title_suffix': 'ALDH1-5l2m', 'file_path_sdf_active': '/Users/lkv206/work/to_do_projects/chembl_ligands/grids_lit-pcba/ALDH1/ALDH1-5l2m_active_glide_lib_sorted.sdf', 'file_path_sdf_decoy': '/Users/lkv206/work/to_do_projects/chembl_ligands/grids_lit-pcba/ALDH1/ALDH1-5l2m_inactive_glide_lib_sorted.sdf', 'file_path_strain_active': '/Users/lkv206/work/to_do_projects/chembl_ligands/grids_lit-pcba/ALDH1/strain/ALDH1-5l2m_active_glide_lib_sorted.csv', 'file_path_strain_decoy': '/Users/lkv206/work/to_do_projects/chembl_ligands/grids_lit-pcba/ALDH1/strain/ALDH1-5l2m_inactive_glide_lib_sorted.csv'}\n"
     ]
    },
    {
     "data": {
      "application/vnd.jupyter.widget-view+json": {
       "model_id": "48cefd23f9bf42e5a390f6140218b968",
       "version_major": 2,
       "version_minor": 0
      },
      "text/plain": [
       "Executing:   0%|          | 0/105 [00:00<?, ?cell/s]"
      ]
     },
     "metadata": {},
     "output_type": "display_data"
    },
    {
     "name": "stderr",
     "output_type": "stream",
     "text": [
      "0.01s - Debugger warning: It seems that frozen modules are being used, which may\n",
      "0.00s - make the debugger miss breakpoints. Please pass -Xfrozen_modules=off\n",
      "0.00s - to python to disable frozen modules.\n",
      "0.00s - Note: Debugging will proceed. Set PYDEVD_DISABLE_FILE_VALIDATION=1 to disable this validation.\n"
     ]
    },
    {
     "name": "stdout",
     "output_type": "stream",
     "text": [
      "litpcba_papermill.ipynb /Users/lkv206/work/to_do_projects/chembl_ligands/grids_lit-pcba/papermill/notebooks/ESR1ago-2qzo_litpcba_papermill.ipynb {'title_suffix': 'ESR1ago-2qzo', 'file_path_sdf_active': '/Users/lkv206/work/to_do_projects/chembl_ligands/grids_lit-pcba/ESR1ago/ESR1ago-2qzo_active_glide_lib_sorted.sdf', 'file_path_sdf_decoy': '/Users/lkv206/work/to_do_projects/chembl_ligands/grids_lit-pcba/ESR1ago/ESR1ago-2qzo_inactive_glide_lib_sorted.sdf', 'file_path_strain_active': '/Users/lkv206/work/to_do_projects/chembl_ligands/grids_lit-pcba/ESR1ago/strain/ESR1ago-2qzo_active_glide_lib_sorted.csv', 'file_path_strain_decoy': '/Users/lkv206/work/to_do_projects/chembl_ligands/grids_lit-pcba/ESR1ago/strain/ESR1ago-2qzo_inactive_glide_lib_sorted.csv'}\n"
     ]
    },
    {
     "data": {
      "application/vnd.jupyter.widget-view+json": {
       "model_id": "cd9712ae986d44d9b97a69aa6174bf6e",
       "version_major": 2,
       "version_minor": 0
      },
      "text/plain": [
       "Executing:   0%|          | 0/105 [00:00<?, ?cell/s]"
      ]
     },
     "metadata": {},
     "output_type": "display_data"
    },
    {
     "name": "stderr",
     "output_type": "stream",
     "text": [
      "0.01s - Debugger warning: It seems that frozen modules are being used, which may\n",
      "0.00s - make the debugger miss breakpoints. Please pass -Xfrozen_modules=off\n",
      "0.00s - to python to disable frozen modules.\n",
      "0.00s - Note: Debugging will proceed. Set PYDEVD_DISABLE_FILE_VALIDATION=1 to disable this validation.\n"
     ]
    },
    {
     "name": "stdout",
     "output_type": "stream",
     "text": [
      "litpcba_papermill.ipynb /Users/lkv206/work/to_do_projects/chembl_ligands/grids_lit-pcba/papermill/notebooks/ESR1ant-2iog_litpcba_papermill.ipynb {'title_suffix': 'ESR1ant-2iog', 'file_path_sdf_decoy': '/Users/lkv206/work/to_do_projects/chembl_ligands/grids_lit-pcba/ESR1ant/ESR1ant-2iog_inactive_glide_lib_sorted.sdf', 'file_path_sdf_active': '/Users/lkv206/work/to_do_projects/chembl_ligands/grids_lit-pcba/ESR1ant/ESR1ant-2iog_active_glide_lib_sorted.sdf', 'file_path_strain_active': '/Users/lkv206/work/to_do_projects/chembl_ligands/grids_lit-pcba/ESR1ant/strain/ESR1ant-2iog_active_glide_lib_sorted.csv', 'file_path_strain_decoy': '/Users/lkv206/work/to_do_projects/chembl_ligands/grids_lit-pcba/ESR1ant/strain/ESR1ant-2iog_inactive_glide_lib_sorted.csv'}\n"
     ]
    },
    {
     "data": {
      "application/vnd.jupyter.widget-view+json": {
       "model_id": "ea1e248e2ecd4386bffe8bdf10da49c5",
       "version_major": 2,
       "version_minor": 0
      },
      "text/plain": [
       "Executing:   0%|          | 0/105 [00:00<?, ?cell/s]"
      ]
     },
     "metadata": {},
     "output_type": "display_data"
    },
    {
     "name": "stderr",
     "output_type": "stream",
     "text": [
      "0.00s - Debugger warning: It seems that frozen modules are being used, which may\n",
      "0.00s - make the debugger miss breakpoints. Please pass -Xfrozen_modules=off\n",
      "0.00s - to python to disable frozen modules.\n",
      "0.00s - Note: Debugging will proceed. Set PYDEVD_DISABLE_FILE_VALIDATION=1 to disable this validation.\n"
     ]
    },
    {
     "name": "stdout",
     "output_type": "stream",
     "text": [
      "litpcba_papermill.ipynb /Users/lkv206/work/to_do_projects/chembl_ligands/grids_lit-pcba/papermill/notebooks/FEN1-5fv7_litpcba_papermill.ipynb {'title_suffix': 'FEN1-5fv7', 'file_path_sdf_active': '/Users/lkv206/work/to_do_projects/chembl_ligands/grids_lit-pcba/FEN1/FEN1-5fv7_active_glide_lib_sorted.sdf', 'file_path_sdf_decoy': '/Users/lkv206/work/to_do_projects/chembl_ligands/grids_lit-pcba/FEN1/FEN1-5fv7_inactive_glide_lib_sorted.sdf', 'file_path_strain_active': '/Users/lkv206/work/to_do_projects/chembl_ligands/grids_lit-pcba/FEN1/strain/FEN1-5fv7_active_glide_lib_sorted.csv', 'file_path_strain_decoy': '/Users/lkv206/work/to_do_projects/chembl_ligands/grids_lit-pcba/FEN1/strain/FEN1-5fv7_inactive_glide_lib_sorted.csv'}\n"
     ]
    },
    {
     "data": {
      "application/vnd.jupyter.widget-view+json": {
       "model_id": "2f8334906acd4c349f854fac11066de3",
       "version_major": 2,
       "version_minor": 0
      },
      "text/plain": [
       "Executing:   0%|          | 0/105 [00:00<?, ?cell/s]"
      ]
     },
     "metadata": {},
     "output_type": "display_data"
    },
    {
     "name": "stderr",
     "output_type": "stream",
     "text": [
      "0.00s - Debugger warning: It seems that frozen modules are being used, which may\n",
      "0.00s - make the debugger miss breakpoints. Please pass -Xfrozen_modules=off\n",
      "0.00s - to python to disable frozen modules.\n",
      "0.00s - Note: Debugging will proceed. Set PYDEVD_DISABLE_FILE_VALIDATION=1 to disable this validation.\n"
     ]
    },
    {
     "name": "stdout",
     "output_type": "stream",
     "text": [
      "litpcba_papermill.ipynb /Users/lkv206/work/to_do_projects/chembl_ligands/grids_lit-pcba/papermill/notebooks/GBA-2v3d_litpcba_papermill.ipynb {'title_suffix': 'GBA-2v3d', 'file_path_sdf_decoy': '/Users/lkv206/work/to_do_projects/chembl_ligands/grids_lit-pcba/GBA/GBA-2v3d_inactive_glide_lib_sorted.sdf', 'file_path_sdf_active': '/Users/lkv206/work/to_do_projects/chembl_ligands/grids_lit-pcba/GBA/GBA-2v3d_active_glide_lib_sorted.sdf', 'file_path_strain_active': '/Users/lkv206/work/to_do_projects/chembl_ligands/grids_lit-pcba/GBA/strain/GBA-2v3d_active_glide_lib_sorted.csv', 'file_path_strain_decoy': '/Users/lkv206/work/to_do_projects/chembl_ligands/grids_lit-pcba/GBA/strain/GBA-2v3d_inactive_glide_lib_sorted.csv'}\n"
     ]
    },
    {
     "data": {
      "application/vnd.jupyter.widget-view+json": {
       "model_id": "1b2f69a95e6b40a7a0b2138140de0614",
       "version_major": 2,
       "version_minor": 0
      },
      "text/plain": [
       "Executing:   0%|          | 0/105 [00:00<?, ?cell/s]"
      ]
     },
     "metadata": {},
     "output_type": "display_data"
    },
    {
     "name": "stderr",
     "output_type": "stream",
     "text": [
      "0.01s - Debugger warning: It seems that frozen modules are being used, which may\n",
      "0.00s - make the debugger miss breakpoints. Please pass -Xfrozen_modules=off\n",
      "0.00s - to python to disable frozen modules.\n",
      "0.00s - Note: Debugging will proceed. Set PYDEVD_DISABLE_FILE_VALIDATION=1 to disable this validation.\n"
     ]
    },
    {
     "name": "stdout",
     "output_type": "stream",
     "text": [
      "litpcba_papermill.ipynb /Users/lkv206/work/to_do_projects/chembl_ligands/grids_lit-pcba/papermill/notebooks/IDH1-4umx_litpcba_papermill.ipynb {'title_suffix': 'IDH1-4umx', 'file_path_sdf_decoy': '/Users/lkv206/work/to_do_projects/chembl_ligands/grids_lit-pcba/IDH1/IDH1-4umx_inactive_glide_lib_sorted.sdf', 'file_path_sdf_active': '/Users/lkv206/work/to_do_projects/chembl_ligands/grids_lit-pcba/IDH1/IDH1-4umx_active_glide_lib_sorted.sdf', 'file_path_strain_active': '/Users/lkv206/work/to_do_projects/chembl_ligands/grids_lit-pcba/IDH1/strain/IDH1-4umx_active_glide_lib_sorted.csv', 'file_path_strain_decoy': '/Users/lkv206/work/to_do_projects/chembl_ligands/grids_lit-pcba/IDH1/strain/IDH1-4umx_inactive_glide_lib_sorted.csv'}\n"
     ]
    },
    {
     "data": {
      "application/vnd.jupyter.widget-view+json": {
       "model_id": "db90cb4cfbe74b6893a4bb93afb6818b",
       "version_major": 2,
       "version_minor": 0
      },
      "text/plain": [
       "Executing:   0%|          | 0/105 [00:00<?, ?cell/s]"
      ]
     },
     "metadata": {},
     "output_type": "display_data"
    },
    {
     "name": "stderr",
     "output_type": "stream",
     "text": [
      "0.01s - Debugger warning: It seems that frozen modules are being used, which may\n",
      "0.00s - make the debugger miss breakpoints. Please pass -Xfrozen_modules=off\n",
      "0.00s - to python to disable frozen modules.\n",
      "0.00s - Note: Debugging will proceed. Set PYDEVD_DISABLE_FILE_VALIDATION=1 to disable this validation.\n"
     ]
    },
    {
     "name": "stdout",
     "output_type": "stream",
     "text": [
      "litpcba_papermill.ipynb /Users/lkv206/work/to_do_projects/chembl_ligands/grids_lit-pcba/papermill/notebooks/KAT2A-5mlj_litpcba_papermill.ipynb {'title_suffix': 'KAT2A-5mlj', 'file_path_sdf_active': '/Users/lkv206/work/to_do_projects/chembl_ligands/grids_lit-pcba/KAT2A/KAT2A-5mlj_active_glide_lib_sorted.sdf', 'file_path_sdf_decoy': '/Users/lkv206/work/to_do_projects/chembl_ligands/grids_lit-pcba/KAT2A/KAT2A-5mlj_inactive_glide_lib_sorted.sdf', 'file_path_strain_active': '/Users/lkv206/work/to_do_projects/chembl_ligands/grids_lit-pcba/KAT2A/strain/KAT2A-5mlj_active_glide_lib_sorted.csv', 'file_path_strain_decoy': '/Users/lkv206/work/to_do_projects/chembl_ligands/grids_lit-pcba/KAT2A/strain/KAT2A-5mlj_inactive_glide_lib_sorted.csv'}\n"
     ]
    },
    {
     "data": {
      "application/vnd.jupyter.widget-view+json": {
       "model_id": "417498459780478491de4d30b1ce9602",
       "version_major": 2,
       "version_minor": 0
      },
      "text/plain": [
       "Executing:   0%|          | 0/105 [00:00<?, ?cell/s]"
      ]
     },
     "metadata": {},
     "output_type": "display_data"
    },
    {
     "name": "stderr",
     "output_type": "stream",
     "text": [
      "0.01s - Debugger warning: It seems that frozen modules are being used, which may\n",
      "0.00s - make the debugger miss breakpoints. Please pass -Xfrozen_modules=off\n",
      "0.00s - to python to disable frozen modules.\n",
      "0.00s - Note: Debugging will proceed. Set PYDEVD_DISABLE_FILE_VALIDATION=1 to disable this validation.\n"
     ]
    },
    {
     "name": "stdout",
     "output_type": "stream",
     "text": [
      "litpcba_papermill.ipynb /Users/lkv206/work/to_do_projects/chembl_ligands/grids_lit-pcba/papermill/notebooks/MAPK1-4zzn_litpcba_papermill.ipynb {'title_suffix': 'MAPK1-4zzn', 'file_path_sdf_decoy': '/Users/lkv206/work/to_do_projects/chembl_ligands/grids_lit-pcba/MAPK1/MAPK1-4zzn_inactive_glide_lib_sorted.sdf', 'file_path_sdf_active': '/Users/lkv206/work/to_do_projects/chembl_ligands/grids_lit-pcba/MAPK1/MAPK1-4zzn_active_glide_lib_sorted.sdf', 'file_path_strain_decoy': '/Users/lkv206/work/to_do_projects/chembl_ligands/grids_lit-pcba/MAPK1/strain/MAPK1-4zzn_inactive_glide_lib_sorted.csv', 'file_path_strain_active': '/Users/lkv206/work/to_do_projects/chembl_ligands/grids_lit-pcba/MAPK1/strain/MAPK1-4zzn_active_glide_lib_sorted.csv'}\n"
     ]
    },
    {
     "data": {
      "application/vnd.jupyter.widget-view+json": {
       "model_id": "d8753dd7f0fd4727970ba6e5b7952dc2",
       "version_major": 2,
       "version_minor": 0
      },
      "text/plain": [
       "Executing:   0%|          | 0/105 [00:00<?, ?cell/s]"
      ]
     },
     "metadata": {},
     "output_type": "display_data"
    },
    {
     "name": "stderr",
     "output_type": "stream",
     "text": [
      "0.01s - Debugger warning: It seems that frozen modules are being used, which may\n",
      "0.00s - make the debugger miss breakpoints. Please pass -Xfrozen_modules=off\n",
      "0.00s - to python to disable frozen modules.\n",
      "0.00s - Note: Debugging will proceed. Set PYDEVD_DISABLE_FILE_VALIDATION=1 to disable this validation.\n"
     ]
    },
    {
     "name": "stdout",
     "output_type": "stream",
     "text": [
      "litpcba_papermill.ipynb /Users/lkv206/work/to_do_projects/chembl_ligands/grids_lit-pcba/papermill/notebooks/MTORC1-4dri_litpcba_papermill.ipynb {'title_suffix': 'MTORC1-4dri', 'file_path_sdf_active': '/Users/lkv206/work/to_do_projects/chembl_ligands/grids_lit-pcba/MTORC1/MTORC1-4dri_active_glide_lib_sorted.sdf', 'file_path_sdf_decoy': '/Users/lkv206/work/to_do_projects/chembl_ligands/grids_lit-pcba/MTORC1/MTORC1-4dri_inactive_glide_lib_sorted.sdf', 'file_path_strain_active': '/Users/lkv206/work/to_do_projects/chembl_ligands/grids_lit-pcba/MTORC1/strain/MTORC1-4dri_active_glide_lib_sorted.csv', 'file_path_strain_decoy': '/Users/lkv206/work/to_do_projects/chembl_ligands/grids_lit-pcba/MTORC1/strain/MTORC1-4dri_inactive_glide_lib_sorted.csv'}\n"
     ]
    },
    {
     "data": {
      "application/vnd.jupyter.widget-view+json": {
       "model_id": "47301b43e799478d96ce9b078d8c6efb",
       "version_major": 2,
       "version_minor": 0
      },
      "text/plain": [
       "Executing:   0%|          | 0/105 [00:00<?, ?cell/s]"
      ]
     },
     "metadata": {},
     "output_type": "display_data"
    },
    {
     "name": "stderr",
     "output_type": "stream",
     "text": [
      "0.00s - Debugger warning: It seems that frozen modules are being used, which may\n",
      "0.00s - make the debugger miss breakpoints. Please pass -Xfrozen_modules=off\n",
      "0.00s - to python to disable frozen modules.\n",
      "0.00s - Note: Debugging will proceed. Set PYDEVD_DISABLE_FILE_VALIDATION=1 to disable this validation.\n"
     ]
    },
    {
     "name": "stdout",
     "output_type": "stream",
     "text": [
      "litpcba_papermill.ipynb /Users/lkv206/work/to_do_projects/chembl_ligands/grids_lit-pcba/papermill/notebooks/OPRK1-6b73_litpcba_papermill.ipynb {'title_suffix': 'OPRK1-6b73', 'file_path_sdf_decoy': '/Users/lkv206/work/to_do_projects/chembl_ligands/grids_lit-pcba/OPRK1/OPRK1-6b73_inactive_glide_lib_sorted.sdf', 'file_path_sdf_active': '/Users/lkv206/work/to_do_projects/chembl_ligands/grids_lit-pcba/OPRK1/OPRK1-6b73_active_glide_lib_sorted.sdf', 'file_path_strain_decoy': '/Users/lkv206/work/to_do_projects/chembl_ligands/grids_lit-pcba/OPRK1/strain/OPRK1-6b73_inactive_glide_lib_sorted.csv', 'file_path_strain_active': '/Users/lkv206/work/to_do_projects/chembl_ligands/grids_lit-pcba/OPRK1/strain/OPRK1-6b73_active_glide_lib_sorted.csv'}\n"
     ]
    },
    {
     "data": {
      "application/vnd.jupyter.widget-view+json": {
       "model_id": "ee8ebf15c1804cb08e61b909a4b7bae8",
       "version_major": 2,
       "version_minor": 0
      },
      "text/plain": [
       "Executing:   0%|          | 0/105 [00:00<?, ?cell/s]"
      ]
     },
     "metadata": {},
     "output_type": "display_data"
    },
    {
     "name": "stderr",
     "output_type": "stream",
     "text": [
      "0.01s - Debugger warning: It seems that frozen modules are being used, which may\n",
      "0.00s - make the debugger miss breakpoints. Please pass -Xfrozen_modules=off\n",
      "0.00s - to python to disable frozen modules.\n",
      "0.00s - Note: Debugging will proceed. Set PYDEVD_DISABLE_FILE_VALIDATION=1 to disable this validation.\n"
     ]
    },
    {
     "name": "stdout",
     "output_type": "stream",
     "text": [
      "litpcba_papermill.ipynb /Users/lkv206/work/to_do_projects/chembl_ligands/grids_lit-pcba/papermill/notebooks/PKM2-3gr4_litpcba_papermill.ipynb {'title_suffix': 'PKM2-3gr4', 'file_path_sdf_decoy': '/Users/lkv206/work/to_do_projects/chembl_ligands/grids_lit-pcba/PKM2/PKM2-3gr4_inactive_glide_lib_sorted.sdf', 'file_path_sdf_active': '/Users/lkv206/work/to_do_projects/chembl_ligands/grids_lit-pcba/PKM2/PKM2-3gr4_active_glide_lib_sorted.sdf', 'file_path_strain_active': '/Users/lkv206/work/to_do_projects/chembl_ligands/grids_lit-pcba/PKM2/strain/PKM2-3gr4_active_glide_lib_sorted.csv', 'file_path_strain_decoy': '/Users/lkv206/work/to_do_projects/chembl_ligands/grids_lit-pcba/PKM2/strain/PKM2-3gr4_inactive_glide_lib_sorted.csv'}\n"
     ]
    },
    {
     "data": {
      "application/vnd.jupyter.widget-view+json": {
       "model_id": "14790ae8bc454458add46bb960c4cf96",
       "version_major": 2,
       "version_minor": 0
      },
      "text/plain": [
       "Executing:   0%|          | 0/105 [00:00<?, ?cell/s]"
      ]
     },
     "metadata": {},
     "output_type": "display_data"
    },
    {
     "name": "stderr",
     "output_type": "stream",
     "text": [
      "0.01s - Debugger warning: It seems that frozen modules are being used, which may\n",
      "0.00s - make the debugger miss breakpoints. Please pass -Xfrozen_modules=off\n",
      "0.00s - to python to disable frozen modules.\n",
      "0.00s - Note: Debugging will proceed. Set PYDEVD_DISABLE_FILE_VALIDATION=1 to disable this validation.\n"
     ]
    },
    {
     "name": "stdout",
     "output_type": "stream",
     "text": [
      "litpcba_papermill.ipynb /Users/lkv206/work/to_do_projects/chembl_ligands/grids_lit-pcba/papermill/notebooks/PPARG-3b1m_litpcba_papermill.ipynb {'title_suffix': 'PPARG-3b1m', 'file_path_sdf_decoy': '/Users/lkv206/work/to_do_projects/chembl_ligands/grids_lit-pcba/PPARG/PPARG-3b1m_inactive_glide_lib_sorted.sdf', 'file_path_sdf_active': '/Users/lkv206/work/to_do_projects/chembl_ligands/grids_lit-pcba/PPARG/PPARG-3b1m_active_glide_lib_sorted.sdf', 'file_path_strain_active': '/Users/lkv206/work/to_do_projects/chembl_ligands/grids_lit-pcba/PPARG/strain/PPARG-3b1m_active_glide_lib_sorted.csv', 'file_path_strain_decoy': '/Users/lkv206/work/to_do_projects/chembl_ligands/grids_lit-pcba/PPARG/strain/PPARG-3b1m_inactive_glide_lib_sorted.csv'}\n"
     ]
    },
    {
     "data": {
      "application/vnd.jupyter.widget-view+json": {
       "model_id": "92287c531bdc44b592f494f3afbfbe21",
       "version_major": 2,
       "version_minor": 0
      },
      "text/plain": [
       "Executing:   0%|          | 0/105 [00:00<?, ?cell/s]"
      ]
     },
     "metadata": {},
     "output_type": "display_data"
    },
    {
     "name": "stderr",
     "output_type": "stream",
     "text": [
      "0.01s - Debugger warning: It seems that frozen modules are being used, which may\n",
      "0.00s - make the debugger miss breakpoints. Please pass -Xfrozen_modules=off\n",
      "0.00s - to python to disable frozen modules.\n",
      "0.00s - Note: Debugging will proceed. Set PYDEVD_DISABLE_FILE_VALIDATION=1 to disable this validation.\n"
     ]
    },
    {
     "name": "stdout",
     "output_type": "stream",
     "text": [
      "litpcba_papermill.ipynb /Users/lkv206/work/to_do_projects/chembl_ligands/grids_lit-pcba/papermill/notebooks/TP53-3zme_litpcba_papermill.ipynb {'title_suffix': 'TP53-3zme', 'file_path_sdf_decoy': '/Users/lkv206/work/to_do_projects/chembl_ligands/grids_lit-pcba/TP53/TP53-3zme_inactive_glide_lib_sorted.sdf', 'file_path_sdf_active': '/Users/lkv206/work/to_do_projects/chembl_ligands/grids_lit-pcba/TP53/TP53-3zme_active_glide_lib_sorted.sdf', 'file_path_strain_decoy': '/Users/lkv206/work/to_do_projects/chembl_ligands/grids_lit-pcba/TP53/strain/TP53-3zme_inactive_glide_lib_sorted.csv', 'file_path_strain_active': '/Users/lkv206/work/to_do_projects/chembl_ligands/grids_lit-pcba/TP53/strain/TP53-3zme_active_glide_lib_sorted.csv'}\n"
     ]
    },
    {
     "data": {
      "application/vnd.jupyter.widget-view+json": {
       "model_id": "b8a9653707cb45f3988002cd83342e56",
       "version_major": 2,
       "version_minor": 0
      },
      "text/plain": [
       "Executing:   0%|          | 0/105 [00:00<?, ?cell/s]"
      ]
     },
     "metadata": {},
     "output_type": "display_data"
    },
    {
     "name": "stderr",
     "output_type": "stream",
     "text": [
      "0.00s - Debugger warning: It seems that frozen modules are being used, which may\n",
      "0.00s - make the debugger miss breakpoints. Please pass -Xfrozen_modules=off\n",
      "0.00s - to python to disable frozen modules.\n",
      "0.00s - Note: Debugging will proceed. Set PYDEVD_DISABLE_FILE_VALIDATION=1 to disable this validation.\n"
     ]
    },
    {
     "name": "stdout",
     "output_type": "stream",
     "text": [
      "litpcba_papermill.ipynb /Users/lkv206/work/to_do_projects/chembl_ligands/grids_lit-pcba/papermill/notebooks/VDR-3a2j_litpcba_papermill.ipynb {'title_suffix': 'VDR-3a2j', 'file_path_sdf_active': '/Users/lkv206/work/to_do_projects/chembl_ligands/grids_lit-pcba/VDR/VDR-3a2j_active_glide_lib_sorted.sdf', 'file_path_sdf_decoy': '/Users/lkv206/work/to_do_projects/chembl_ligands/grids_lit-pcba/VDR/VDR-3a2j_inactive_glide_lib_sorted.sdf', 'file_path_strain_decoy': '/Users/lkv206/work/to_do_projects/chembl_ligands/grids_lit-pcba/VDR/strain/VDR-3a2j_inactive_glide_lib_sorted.csv', 'file_path_strain_active': '/Users/lkv206/work/to_do_projects/chembl_ligands/grids_lit-pcba/VDR/strain/VDR-3a2j_active_glide_lib_sorted.csv'}\n"
     ]
    },
    {
     "data": {
      "application/vnd.jupyter.widget-view+json": {
       "model_id": "f8950ee8158348f2bf13df23b5ef5ce5",
       "version_major": 2,
       "version_minor": 0
      },
      "text/plain": [
       "Executing:   0%|          | 0/105 [00:00<?, ?cell/s]"
      ]
     },
     "metadata": {},
     "output_type": "display_data"
    },
    {
     "name": "stderr",
     "output_type": "stream",
     "text": [
      "0.00s - Debugger warning: It seems that frozen modules are being used, which may\n",
      "0.00s - make the debugger miss breakpoints. Please pass -Xfrozen_modules=off\n",
      "0.00s - to python to disable frozen modules.\n",
      "0.00s - Note: Debugging will proceed. Set PYDEVD_DISABLE_FILE_VALIDATION=1 to disable this validation.\n"
     ]
    }
   ],
   "source": [
    "for params in parameters_list:\n",
    "    print(\"litpcba_papermill.ipynb\", params[\"output_notebook\"], params[\"parameters\"])\n",
    "    pm.execute_notebook(\n",
    "        \"litpcba_papermill.ipynb\", params[\"output_notebook\"], params[\"parameters\"]\n",
    "    )"
   ]
  },
  {
   "cell_type": "code",
   "execution_count": null,
   "metadata": {},
   "outputs": [],
   "source": []
  },
  {
   "cell_type": "code",
   "execution_count": null,
   "metadata": {},
   "outputs": [],
   "source": [
    "\n",
    "# # Get a list of all subfolders in the current working directory that start with a capital letter\n",
    "# subfolders = [f.name for f in os.scandir(\".\") if f.is_dir() and f.name[0].isupper()]\n",
    "\n",
    "# parameters_list = []\n",
    "\n",
    "# # Create a parameters dictionary for each subfolder\n",
    "# for subfolder in subfolders:\n",
    "#     parameters = {\n",
    "#         \"title_suffix\": subfolder,\n",
    "#         \"file_path_sdf_active\": f\"./{subfolder}/docking/{subfolder}_active_docking_lib_sorted.sdf\",\n",
    "#         \"file_path_sdf_decoy\": f\"./{subfolder}/docking/{subfolder}_decoy_docking_lib_sorted.sdf\",\n",
    "#         \"file_path_strain_active\": f\"./{subfolder}/strain/{subfolder}_active_docking_lib_sorted.csv\",\n",
    "#         \"file_path_strain_decoy\": f\"./{subfolder}/strain/{subfolder}_decoy_docking_lib_sorted.csv\",\n",
    "#     }\n",
    "\n",
    "#     output_notebook = f\"./papermill/notebooks/gpcr_papermill_output_{parameters['title_suffix']}.ipynb\"\n",
    "\n",
    "#     parameters_list.append(\n",
    "#         {\n",
    "#             \"output_notebook\": output_notebook,\n",
    "#             \"parameters\": parameters,\n",
    "#         }\n",
    "#     )\n",
    "\n",
    "\n",
    "# pprint.pprint(parameters_list)\n",
    "\n",
    "# # Execute the notebook for each set of parameters\n",
    "# for params in parameters_list:\n",
    "#     pm.execute_notebook(\n",
    "#         \"gpcr_papermill.ipynb\",\n",
    "#         params[\"output_notebook\"],\n",
    "#         parameters=params[\"parameters\"],\n",
    "#     )"
   ]
  },
  {
   "cell_type": "code",
   "execution_count": null,
   "metadata": {},
   "outputs": [],
   "source": []
  }
 ],
 "metadata": {
  "kernelspec": {
   "display_name": "analytics_env",
   "language": "python",
   "name": "python3"
  },
  "language_info": {
   "codemirror_mode": {
    "name": "ipython",
    "version": 3
   },
   "file_extension": ".py",
   "mimetype": "text/x-python",
   "name": "python",
   "nbconvert_exporter": "python",
   "pygments_lexer": "ipython3",
   "version": "3.11.5"
  }
 },
 "nbformat": 4,
 "nbformat_minor": 2
}
