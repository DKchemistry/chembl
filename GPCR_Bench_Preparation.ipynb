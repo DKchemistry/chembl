{
 "cells": [
  {
   "cell_type": "markdown",
   "metadata": {},
   "source": [
    "# GPCR-Bench Preparation\n",
    "\n",
    "## Processing ligand `.smi` files\n",
    "\n",
    "### Relevant Files\n",
    "\n",
    "`Receptor_chembl19_set.smi`  Smiles strings of all the molecules in the benchmarking set (~200 actives and ~10000 decoys).\n",
    "\n",
    "`Receptor_diverse_actives.id` ID names of all the actives in the set.\n",
    "\n",
    "`Receptor_dude_decoys.id` ID names of all the decoys in the set.\n",
    "\n",
    "### Directory Structure\n",
    "\n",
    "`~/GPCR-Bench-master/Receptor/<Receptor_Files>`\n",
    "\n",
    "Ex. `~/GPCR-Bench-master/OPRK/OPRK_chembl19_set.smi`\n",
    "\n",
    "### Workflow 1: GPCR-Bench with Strain\n",
    "\n",
    "0. Quality check files.\n",
    "1. Separate `.smi` file into actives and inactives.\n",
    "2. Prepare unassigned stereoisomers via MayaChemTools.\n",
    "3. Prepare 3D conformers"
   ]
  }
 ],
 "metadata": {
  "kernelspec": {
   "display_name": "analytics_env",
   "language": "python",
   "name": "python3"
  },
  "language_info": {
   "codemirror_mode": {
    "name": "ipython",
    "version": 3
   },
   "file_extension": ".py",
   "mimetype": "text/x-python",
   "name": "python",
   "nbconvert_exporter": "python",
   "pygments_lexer": "ipython3",
   "version": "3.11.5"
  }
 },
 "nbformat": 4,
 "nbformat_minor": 2
}
