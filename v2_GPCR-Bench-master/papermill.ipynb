{
 "cells": [
  {
   "cell_type": "code",
   "execution_count": 1,
   "metadata": {},
   "outputs": [
    {
     "name": "stdout",
     "output_type": "stream",
     "text": [
      "/Users/lkv206/work/to_do_projects/chembl_ligands/v2_GPCR-Bench-master\n"
     ]
    }
   ],
   "source": [
    "import papermill as pm\n",
    "import os \n",
    "\n",
    "print(os.getcwd())"
   ]
  },
  {
   "cell_type": "code",
   "execution_count": 4,
   "metadata": {},
   "outputs": [
    {
     "data": {
      "text/plain": [
       "{'title_suffix': {'name': 'title_suffix',\n",
       "  'inferred_type_name': 'None',\n",
       "  'default': '\"ADRB2_4lde\"',\n",
       "  'help': ''},\n",
       " 'file_path_sdf_active': {'name': 'file_path_sdf_active',\n",
       "  'inferred_type_name': 'None',\n",
       "  'default': '\"/Users/lkv206/work/to_do_projects/chembl_ligands/grids_lit-pcba/ADRB2/ADRB2_4lde_active_docking_lib_sorted.sdf\"',\n",
       "  'help': ''},\n",
       " 'file_path_sdf_decoy': {'name': 'file_path_sdf_decoy',\n",
       "  'inferred_type_name': 'None',\n",
       "  'default': '\"/Users/lkv206/work/to_do_projects/chembl_ligands/grids_lit-pcba/ADRB2/ADRB2_4lde_inactive_docking_lib_sorted.sdf\"',\n",
       "  'help': ''},\n",
       " 'file_path_strain_active': {'name': 'file_path_strain_active',\n",
       "  'inferred_type_name': 'None',\n",
       "  'default': '\"/Users/lkv206/work/to_do_projects/chembl_ligands/grids_lit-pcba/ADRB2/strain/ADRB2_4lde_active_docking_lib_sorted_strain.csv\"',\n",
       "  'help': ''},\n",
       " 'file_path_strain_decoy': {'name': 'file_path_strain_decoy',\n",
       "  'inferred_type_name': 'None',\n",
       "  'default': '\"/Users/lkv206/work/to_do_projects/chembl_ligands/grids_lit-pcba/ADRB2/strain/ADRB2_4lde_inactive_docking_lib_sorted_strain.csv\"',\n",
       "  'help': ''}}"
      ]
     },
     "execution_count": 4,
     "metadata": {},
     "output_type": "execute_result"
    }
   ],
   "source": [
    "pm.inspect_notebook('v2_gpcr_papermill.ipynb')\n"
   ]
  },
  {
   "cell_type": "code",
   "execution_count": 3,
   "metadata": {},
   "outputs": [],
   "source": [
    "# # execute_notebook(<input notebook>, <output notebook>, <dictionary of parameters>)\n",
    "\n",
    "# pm.execute_notebook(\n",
    "#     \"gpcr_papermill.ipynb\",\n",
    "#     \"./papermill/notebooks/gpcr_papermill_output.ipynb\",\n",
    "#     parameters={\n",
    "#         \"title_suffix\": \"GPR40\",\n",
    "#         \"file_path_sdf_active\": \"./GPR40/docking/GPR40_active_docking_lib_sorted.sdf\",\n",
    "#         \"file_path_sdf_decoy\": \"./GPR40/docking/GPR40_decoy_docking_lib_sorted.sdf\",\n",
    "#         \"file_path_strain_active\": \"./GPR40/strain/GPR40_active_docking_lib_sorted.csv\",\n",
    "#         \"file_path_strain_decoy\": \"./GPR40/strain/GPR40_decoy_docking_lib_sorted.csv\",\n",
    "#     },\n",
    "# )\n"
   ]
  },
  {
   "cell_type": "code",
   "execution_count": 4,
   "metadata": {},
   "outputs": [],
   "source": [
    "# parameters = {\n",
    "#     \"title_suffix\": \"GPR40\",\n",
    "#     \"file_path_sdf_active\": \"./GPR40/docking/GPR40_active_docking_lib_sorted.sdf\",\n",
    "#     \"file_path_sdf_decoy\": \"./GPR40/docking/GPR40_decoy_docking_lib_sorted.sdf\",\n",
    "#     \"file_path_strain_active\": \"./GPR40/strain/GPR40_active_docking_lib_sorted.csv\",\n",
    "#     \"file_path_strain_decoy\": \"./GPR40/strain/GPR40_decoy_docking_lib_sorted.csv\",\n",
    "# }\n",
    "\n",
    "# output_notebook = (\n",
    "#     f\"./papermill/notebooks/gpcr_papermill_output_{parameters['title_suffix']}.ipynb\"\n",
    "# )\n",
    "\n",
    "# pm.execute_notebook(\n",
    "#     \"gpcr_papermill.ipynb\",\n",
    "#     output_notebook,\n",
    "#     parameters=parameters,\n",
    "# )"
   ]
  },
  {
   "cell_type": "code",
   "execution_count": 10,
   "metadata": {},
   "outputs": [
    {
     "data": {
      "application/vnd.jupyter.widget-view+json": {
       "model_id": "1f22e08c0b13417fbca062dad0acbe52",
       "version_major": 2,
       "version_minor": 0
      },
      "text/plain": [
       "Executing:   0%|          | 0/122 [00:00<?, ?cell/s]"
      ]
     },
     "metadata": {},
     "output_type": "display_data"
    },
    {
     "name": "stderr",
     "output_type": "stream",
     "text": [
      "0.00s - Debugger warning: It seems that frozen modules are being used, which may\n",
      "0.00s - make the debugger miss breakpoints. Please pass -Xfrozen_modules=off\n",
      "0.00s - to python to disable frozen modules.\n",
      "0.00s - Note: Debugging will proceed. Set PYDEVD_DISABLE_FILE_VALIDATION=1 to disable this validation.\n"
     ]
    },
    {
     "data": {
      "application/vnd.jupyter.widget-view+json": {
       "model_id": "55c0401acba142fbb809becedb9b4937",
       "version_major": 2,
       "version_minor": 0
      },
      "text/plain": [
       "Executing:   0%|          | 0/122 [00:00<?, ?cell/s]"
      ]
     },
     "metadata": {},
     "output_type": "display_data"
    },
    {
     "name": "stderr",
     "output_type": "stream",
     "text": [
      "0.00s - Debugger warning: It seems that frozen modules are being used, which may\n",
      "0.00s - make the debugger miss breakpoints. Please pass -Xfrozen_modules=off\n",
      "0.00s - to python to disable frozen modules.\n",
      "0.00s - Note: Debugging will proceed. Set PYDEVD_DISABLE_FILE_VALIDATION=1 to disable this validation.\n"
     ]
    },
    {
     "data": {
      "application/vnd.jupyter.widget-view+json": {
       "model_id": "eceb07219388496e952dee0d380643f6",
       "version_major": 2,
       "version_minor": 0
      },
      "text/plain": [
       "Executing:   0%|          | 0/122 [00:00<?, ?cell/s]"
      ]
     },
     "metadata": {},
     "output_type": "display_data"
    },
    {
     "name": "stderr",
     "output_type": "stream",
     "text": [
      "0.00s - Debugger warning: It seems that frozen modules are being used, which may\n",
      "0.00s - make the debugger miss breakpoints. Please pass -Xfrozen_modules=off\n",
      "0.00s - to python to disable frozen modules.\n",
      "0.00s - Note: Debugging will proceed. Set PYDEVD_DISABLE_FILE_VALIDATION=1 to disable this validation.\n"
     ]
    },
    {
     "data": {
      "application/vnd.jupyter.widget-view+json": {
       "model_id": "67a9d00dfdad4e79b137c70308b9a88c",
       "version_major": 2,
       "version_minor": 0
      },
      "text/plain": [
       "Executing:   0%|          | 0/122 [00:00<?, ?cell/s]"
      ]
     },
     "metadata": {},
     "output_type": "display_data"
    },
    {
     "name": "stderr",
     "output_type": "stream",
     "text": [
      "0.00s - Debugger warning: It seems that frozen modules are being used, which may\n",
      "0.00s - make the debugger miss breakpoints. Please pass -Xfrozen_modules=off\n",
      "0.00s - to python to disable frozen modules.\n",
      "0.00s - Note: Debugging will proceed. Set PYDEVD_DISABLE_FILE_VALIDATION=1 to disable this validation.\n"
     ]
    },
    {
     "data": {
      "application/vnd.jupyter.widget-view+json": {
       "model_id": "a1201dacc74c4020b92aec4a5c95000e",
       "version_major": 2,
       "version_minor": 0
      },
      "text/plain": [
       "Executing:   0%|          | 0/122 [00:00<?, ?cell/s]"
      ]
     },
     "metadata": {},
     "output_type": "display_data"
    },
    {
     "name": "stderr",
     "output_type": "stream",
     "text": [
      "0.01s - Debugger warning: It seems that frozen modules are being used, which may\n",
      "0.00s - make the debugger miss breakpoints. Please pass -Xfrozen_modules=off\n",
      "0.00s - to python to disable frozen modules.\n",
      "0.00s - Note: Debugging will proceed. Set PYDEVD_DISABLE_FILE_VALIDATION=1 to disable this validation.\n"
     ]
    },
    {
     "data": {
      "application/vnd.jupyter.widget-view+json": {
       "model_id": "44195f4f547b43a4838896d9869fbd56",
       "version_major": 2,
       "version_minor": 0
      },
      "text/plain": [
       "Executing:   0%|          | 0/122 [00:00<?, ?cell/s]"
      ]
     },
     "metadata": {},
     "output_type": "display_data"
    },
    {
     "name": "stderr",
     "output_type": "stream",
     "text": [
      "0.00s - Debugger warning: It seems that frozen modules are being used, which may\n",
      "0.00s - make the debugger miss breakpoints. Please pass -Xfrozen_modules=off\n",
      "0.00s - to python to disable frozen modules.\n",
      "0.00s - Note: Debugging will proceed. Set PYDEVD_DISABLE_FILE_VALIDATION=1 to disable this validation.\n"
     ]
    },
    {
     "data": {
      "application/vnd.jupyter.widget-view+json": {
       "model_id": "dd49211792734116ae5e58f766687be7",
       "version_major": 2,
       "version_minor": 0
      },
      "text/plain": [
       "Executing:   0%|          | 0/122 [00:00<?, ?cell/s]"
      ]
     },
     "metadata": {},
     "output_type": "display_data"
    },
    {
     "name": "stderr",
     "output_type": "stream",
     "text": [
      "0.00s - Debugger warning: It seems that frozen modules are being used, which may\n",
      "0.00s - make the debugger miss breakpoints. Please pass -Xfrozen_modules=off\n",
      "0.00s - to python to disable frozen modules.\n",
      "0.00s - Note: Debugging will proceed. Set PYDEVD_DISABLE_FILE_VALIDATION=1 to disable this validation.\n"
     ]
    },
    {
     "data": {
      "application/vnd.jupyter.widget-view+json": {
       "model_id": "14a41736051c4d4286d4eb5de6546a6b",
       "version_major": 2,
       "version_minor": 0
      },
      "text/plain": [
       "Executing:   0%|          | 0/122 [00:00<?, ?cell/s]"
      ]
     },
     "metadata": {},
     "output_type": "display_data"
    },
    {
     "name": "stderr",
     "output_type": "stream",
     "text": [
      "0.00s - Debugger warning: It seems that frozen modules are being used, which may\n",
      "0.00s - make the debugger miss breakpoints. Please pass -Xfrozen_modules=off\n",
      "0.00s - to python to disable frozen modules.\n",
      "0.00s - Note: Debugging will proceed. Set PYDEVD_DISABLE_FILE_VALIDATION=1 to disable this validation.\n"
     ]
    },
    {
     "data": {
      "application/vnd.jupyter.widget-view+json": {
       "model_id": "741e384743ae46408ba317e191a40b9c",
       "version_major": 2,
       "version_minor": 0
      },
      "text/plain": [
       "Executing:   0%|          | 0/122 [00:00<?, ?cell/s]"
      ]
     },
     "metadata": {},
     "output_type": "display_data"
    },
    {
     "name": "stderr",
     "output_type": "stream",
     "text": [
      "0.00s - Debugger warning: It seems that frozen modules are being used, which may\n",
      "0.00s - make the debugger miss breakpoints. Please pass -Xfrozen_modules=off\n",
      "0.00s - to python to disable frozen modules.\n",
      "0.00s - Note: Debugging will proceed. Set PYDEVD_DISABLE_FILE_VALIDATION=1 to disable this validation.\n"
     ]
    },
    {
     "data": {
      "application/vnd.jupyter.widget-view+json": {
       "model_id": "2149042ce737428592f86c6369239b0e",
       "version_major": 2,
       "version_minor": 0
      },
      "text/plain": [
       "Executing:   0%|          | 0/122 [00:00<?, ?cell/s]"
      ]
     },
     "metadata": {},
     "output_type": "display_data"
    },
    {
     "name": "stderr",
     "output_type": "stream",
     "text": [
      "0.02s - Debugger warning: It seems that frozen modules are being used, which may\n",
      "0.00s - make the debugger miss breakpoints. Please pass -Xfrozen_modules=off\n",
      "0.00s - to python to disable frozen modules.\n",
      "0.00s - Note: Debugging will proceed. Set PYDEVD_DISABLE_FILE_VALIDATION=1 to disable this validation.\n"
     ]
    },
    {
     "data": {
      "application/vnd.jupyter.widget-view+json": {
       "model_id": "e242b503180f44a58af3aa357914d8d8",
       "version_major": 2,
       "version_minor": 0
      },
      "text/plain": [
       "Executing:   0%|          | 0/122 [00:00<?, ?cell/s]"
      ]
     },
     "metadata": {},
     "output_type": "display_data"
    },
    {
     "name": "stderr",
     "output_type": "stream",
     "text": [
      "0.00s - Debugger warning: It seems that frozen modules are being used, which may\n",
      "0.00s - make the debugger miss breakpoints. Please pass -Xfrozen_modules=off\n",
      "0.00s - to python to disable frozen modules.\n",
      "0.00s - Note: Debugging will proceed. Set PYDEVD_DISABLE_FILE_VALIDATION=1 to disable this validation.\n"
     ]
    },
    {
     "data": {
      "application/vnd.jupyter.widget-view+json": {
       "model_id": "811ad67e771248ea8e77007c8478d8d1",
       "version_major": 2,
       "version_minor": 0
      },
      "text/plain": [
       "Executing:   0%|          | 0/122 [00:00<?, ?cell/s]"
      ]
     },
     "metadata": {},
     "output_type": "display_data"
    },
    {
     "name": "stderr",
     "output_type": "stream",
     "text": [
      "0.01s - Debugger warning: It seems that frozen modules are being used, which may\n",
      "0.00s - make the debugger miss breakpoints. Please pass -Xfrozen_modules=off\n",
      "0.00s - to python to disable frozen modules.\n",
      "0.00s - Note: Debugging will proceed. Set PYDEVD_DISABLE_FILE_VALIDATION=1 to disable this validation.\n"
     ]
    },
    {
     "data": {
      "application/vnd.jupyter.widget-view+json": {
       "model_id": "147c10af331b4deea4e455b19b3082ec",
       "version_major": 2,
       "version_minor": 0
      },
      "text/plain": [
       "Executing:   0%|          | 0/122 [00:00<?, ?cell/s]"
      ]
     },
     "metadata": {},
     "output_type": "display_data"
    },
    {
     "name": "stderr",
     "output_type": "stream",
     "text": [
      "0.00s - Debugger warning: It seems that frozen modules are being used, which may\n",
      "0.00s - make the debugger miss breakpoints. Please pass -Xfrozen_modules=off\n",
      "0.00s - to python to disable frozen modules.\n",
      "0.00s - Note: Debugging will proceed. Set PYDEVD_DISABLE_FILE_VALIDATION=1 to disable this validation.\n"
     ]
    },
    {
     "data": {
      "application/vnd.jupyter.widget-view+json": {
       "model_id": "ec308cdb45ca4afeb327958c3b0afed9",
       "version_major": 2,
       "version_minor": 0
      },
      "text/plain": [
       "Executing:   0%|          | 0/122 [00:00<?, ?cell/s]"
      ]
     },
     "metadata": {},
     "output_type": "display_data"
    },
    {
     "name": "stderr",
     "output_type": "stream",
     "text": [
      "0.00s - Debugger warning: It seems that frozen modules are being used, which may\n",
      "0.00s - make the debugger miss breakpoints. Please pass -Xfrozen_modules=off\n",
      "0.00s - to python to disable frozen modules.\n",
      "0.00s - Note: Debugging will proceed. Set PYDEVD_DISABLE_FILE_VALIDATION=1 to disable this validation.\n"
     ]
    },
    {
     "data": {
      "application/vnd.jupyter.widget-view+json": {
       "model_id": "d45750b5b56948b5aa9b44769dd07f2c",
       "version_major": 2,
       "version_minor": 0
      },
      "text/plain": [
       "Executing:   0%|          | 0/122 [00:00<?, ?cell/s]"
      ]
     },
     "metadata": {},
     "output_type": "display_data"
    },
    {
     "name": "stderr",
     "output_type": "stream",
     "text": [
      "0.00s - Debugger warning: It seems that frozen modules are being used, which may\n",
      "0.00s - make the debugger miss breakpoints. Please pass -Xfrozen_modules=off\n",
      "0.00s - to python to disable frozen modules.\n",
      "0.00s - Note: Debugging will proceed. Set PYDEVD_DISABLE_FILE_VALIDATION=1 to disable this validation.\n"
     ]
    },
    {
     "data": {
      "application/vnd.jupyter.widget-view+json": {
       "model_id": "3a07a5e65b1e4759835e7f92e0daeb53",
       "version_major": 2,
       "version_minor": 0
      },
      "text/plain": [
       "Executing:   0%|          | 0/122 [00:00<?, ?cell/s]"
      ]
     },
     "metadata": {},
     "output_type": "display_data"
    },
    {
     "name": "stderr",
     "output_type": "stream",
     "text": [
      "0.01s - Debugger warning: It seems that frozen modules are being used, which may\n",
      "0.00s - make the debugger miss breakpoints. Please pass -Xfrozen_modules=off\n",
      "0.00s - to python to disable frozen modules.\n",
      "0.00s - Note: Debugging will proceed. Set PYDEVD_DISABLE_FILE_VALIDATION=1 to disable this validation.\n"
     ]
    },
    {
     "data": {
      "application/vnd.jupyter.widget-view+json": {
       "model_id": "cb3320f2c015492baf26c4d26e36323c",
       "version_major": 2,
       "version_minor": 0
      },
      "text/plain": [
       "Executing:   0%|          | 0/122 [00:00<?, ?cell/s]"
      ]
     },
     "metadata": {},
     "output_type": "display_data"
    },
    {
     "name": "stderr",
     "output_type": "stream",
     "text": [
      "0.00s - Debugger warning: It seems that frozen modules are being used, which may\n",
      "0.00s - make the debugger miss breakpoints. Please pass -Xfrozen_modules=off\n",
      "0.00s - to python to disable frozen modules.\n",
      "0.00s - Note: Debugging will proceed. Set PYDEVD_DISABLE_FILE_VALIDATION=1 to disable this validation.\n"
     ]
    },
    {
     "data": {
      "application/vnd.jupyter.widget-view+json": {
       "model_id": "0c860334f10442e384844f62bfc19f39",
       "version_major": 2,
       "version_minor": 0
      },
      "text/plain": [
       "Executing:   0%|          | 0/122 [00:00<?, ?cell/s]"
      ]
     },
     "metadata": {},
     "output_type": "display_data"
    },
    {
     "name": "stderr",
     "output_type": "stream",
     "text": [
      "0.00s - Debugger warning: It seems that frozen modules are being used, which may\n",
      "0.00s - make the debugger miss breakpoints. Please pass -Xfrozen_modules=off\n",
      "0.00s - to python to disable frozen modules.\n",
      "0.00s - Note: Debugging will proceed. Set PYDEVD_DISABLE_FILE_VALIDATION=1 to disable this validation.\n"
     ]
    },
    {
     "data": {
      "application/vnd.jupyter.widget-view+json": {
       "model_id": "0804529f5c8f4c9dbce043917cffccb0",
       "version_major": 2,
       "version_minor": 0
      },
      "text/plain": [
       "Executing:   0%|          | 0/122 [00:00<?, ?cell/s]"
      ]
     },
     "metadata": {},
     "output_type": "display_data"
    },
    {
     "name": "stderr",
     "output_type": "stream",
     "text": [
      "0.00s - Debugger warning: It seems that frozen modules are being used, which may\n",
      "0.00s - make the debugger miss breakpoints. Please pass -Xfrozen_modules=off\n",
      "0.00s - to python to disable frozen modules.\n",
      "0.00s - Note: Debugging will proceed. Set PYDEVD_DISABLE_FILE_VALIDATION=1 to disable this validation.\n"
     ]
    },
    {
     "data": {
      "application/vnd.jupyter.widget-view+json": {
       "model_id": "e4051708d466462bb2e7960d7287ec36",
       "version_major": 2,
       "version_minor": 0
      },
      "text/plain": [
       "Executing:   0%|          | 0/122 [00:00<?, ?cell/s]"
      ]
     },
     "metadata": {},
     "output_type": "display_data"
    },
    {
     "name": "stderr",
     "output_type": "stream",
     "text": [
      "0.01s - Debugger warning: It seems that frozen modules are being used, which may\n",
      "0.00s - make the debugger miss breakpoints. Please pass -Xfrozen_modules=off\n",
      "0.00s - to python to disable frozen modules.\n",
      "0.00s - Note: Debugging will proceed. Set PYDEVD_DISABLE_FILE_VALIDATION=1 to disable this validation.\n"
     ]
    },
    {
     "data": {
      "application/vnd.jupyter.widget-view+json": {
       "model_id": "caa3599127e44daf89dee56697ba294c",
       "version_major": 2,
       "version_minor": 0
      },
      "text/plain": [
       "Executing:   0%|          | 0/122 [00:00<?, ?cell/s]"
      ]
     },
     "metadata": {},
     "output_type": "display_data"
    },
    {
     "name": "stderr",
     "output_type": "stream",
     "text": [
      "0.00s - Debugger warning: It seems that frozen modules are being used, which may\n",
      "0.00s - make the debugger miss breakpoints. Please pass -Xfrozen_modules=off\n",
      "0.00s - to python to disable frozen modules.\n",
      "0.00s - Note: Debugging will proceed. Set PYDEVD_DISABLE_FILE_VALIDATION=1 to disable this validation.\n"
     ]
    },
    {
     "data": {
      "application/vnd.jupyter.widget-view+json": {
       "model_id": "77ab77ef297246a8beb2aac9d1c9112c",
       "version_major": 2,
       "version_minor": 0
      },
      "text/plain": [
       "Executing:   0%|          | 0/122 [00:00<?, ?cell/s]"
      ]
     },
     "metadata": {},
     "output_type": "display_data"
    },
    {
     "name": "stderr",
     "output_type": "stream",
     "text": [
      "0.00s - Debugger warning: It seems that frozen modules are being used, which may\n",
      "0.00s - make the debugger miss breakpoints. Please pass -Xfrozen_modules=off\n",
      "0.00s - to python to disable frozen modules.\n",
      "0.00s - Note: Debugging will proceed. Set PYDEVD_DISABLE_FILE_VALIDATION=1 to disable this validation.\n"
     ]
    }
   ],
   "source": [
    "import os\n",
    "import pprint\n",
    "\n",
    "# Get a list of all subfolders in the current working directory that start with a capital letter\n",
    "subfolders = [f.name for f in os.scandir(\".\") if f.is_dir() and f.name[0].isupper()]\n",
    "\n",
    "parameters_list = []\n",
    "\n",
    "# Create a parameters dictionary for each subfolder\n",
    "for subfolder in subfolders:\n",
    "    parameters = {\n",
    "        \"title_suffix\": subfolder,\n",
    "        \"file_path_sdf_active\": f\"./{subfolder}/docking/{subfolder}_active_docking_lib_sorted.sdf\",\n",
    "        \"file_path_sdf_decoy\": f\"./{subfolder}/docking/{subfolder}_decoy_docking_lib_sorted.sdf\",\n",
    "        \"file_path_strain_active\": f\"./{subfolder}/strain/{subfolder}_active_docking_lib_sorted.csv\",\n",
    "        \"file_path_strain_decoy\": f\"./{subfolder}/strain/{subfolder}_decoy_docking_lib_sorted.csv\",\n",
    "    }\n",
    "\n",
    "    output_notebook = f\"./papermill/notebooks/gpcr_papermill_output_{parameters['title_suffix']}.ipynb\"\n",
    "\n",
    "    parameters_list.append(\n",
    "        {\n",
    "            \"output_notebook\": output_notebook,\n",
    "            \"parameters\": parameters,\n",
    "        }\n",
    "    )\n",
    "\n",
    "# pprint.pprint(parameters_list)\n",
    "\n",
    "# Execute the notebook for each set of parameters\n",
    "for params in parameters_list:\n",
    "    pm.execute_notebook(\n",
    "        \"gpcr_papermill.ipynb\",\n",
    "        params[\"output_notebook\"],\n",
    "        parameters=params[\"parameters\"],\n",
    "    )"
   ]
  },
  {
   "cell_type": "code",
   "execution_count": 8,
   "metadata": {},
   "outputs": [
    {
     "name": "stdout",
     "output_type": "stream",
     "text": [
      "[{'output_notebook': './papermill/notebooks/gpcr_papermill_output_GPR40.ipynb',\n",
      "  'parameters': {'file_path_sdf_active': './GPR40/docking/GPR40_active_docking_lib_sorted.sdf',\n",
      "                 'file_path_sdf_decoy': './GPR40/docking/GPR40_decoy_docking_lib_sorted.sdf',\n",
      "                 'file_path_strain_active': './GPR40/strain/GPR40_active_docking_lib_sorted.csv',\n",
      "                 'file_path_strain_decoy': './GPR40/strain/GPR40_decoy_docking_lib_sorted.csv',\n",
      "                 'title_suffix': 'GPR40'}},\n",
      " {'output_notebook': './papermill/notebooks/gpcr_papermill_output_ACM3.ipynb',\n",
      "  'parameters': {'file_path_sdf_active': './ACM3/docking/ACM3_active_docking_lib_sorted.sdf',\n",
      "                 'file_path_sdf_decoy': './ACM3/docking/ACM3_decoy_docking_lib_sorted.sdf',\n",
      "                 'file_path_strain_active': './ACM3/strain/ACM3_active_docking_lib_sorted.csv',\n",
      "                 'file_path_strain_decoy': './ACM3/strain/ACM3_decoy_docking_lib_sorted.csv',\n",
      "                 'title_suffix': 'ACM3'}},\n",
      " {'output_notebook': './papermill/notebooks/gpcr_papermill_output_MGLUR1.ipynb',\n",
      "  'parameters': {'file_path_sdf_active': './MGLUR1/docking/MGLUR1_active_docking_lib_sorted.sdf',\n",
      "                 'file_path_sdf_decoy': './MGLUR1/docking/MGLUR1_decoy_docking_lib_sorted.sdf',\n",
      "                 'file_path_strain_active': './MGLUR1/strain/MGLUR1_active_docking_lib_sorted.csv',\n",
      "                 'file_path_strain_decoy': './MGLUR1/strain/MGLUR1_decoy_docking_lib_sorted.csv',\n",
      "                 'title_suffix': 'MGLUR1'}},\n",
      " {'output_notebook': './papermill/notebooks/gpcr_papermill_output_ACM2.ipynb',\n",
      "  'parameters': {'file_path_sdf_active': './ACM2/docking/ACM2_active_docking_lib_sorted.sdf',\n",
      "                 'file_path_sdf_decoy': './ACM2/docking/ACM2_decoy_docking_lib_sorted.sdf',\n",
      "                 'file_path_strain_active': './ACM2/strain/ACM2_active_docking_lib_sorted.csv',\n",
      "                 'file_path_strain_decoy': './ACM2/strain/ACM2_decoy_docking_lib_sorted.csv',\n",
      "                 'title_suffix': 'ACM2'}},\n",
      " {'output_notebook': './papermill/notebooks/gpcr_papermill_output_SMO.ipynb',\n",
      "  'parameters': {'file_path_sdf_active': './SMO/docking/SMO_active_docking_lib_sorted.sdf',\n",
      "                 'file_path_sdf_decoy': './SMO/docking/SMO_decoy_docking_lib_sorted.sdf',\n",
      "                 'file_path_strain_active': './SMO/strain/SMO_active_docking_lib_sorted.csv',\n",
      "                 'file_path_strain_decoy': './SMO/strain/SMO_decoy_docking_lib_sorted.csv',\n",
      "                 'title_suffix': 'SMO'}},\n",
      " {'output_notebook': './papermill/notebooks/gpcr_papermill_output_S1PR1.ipynb',\n",
      "  'parameters': {'file_path_sdf_active': './S1PR1/docking/S1PR1_active_docking_lib_sorted.sdf',\n",
      "                 'file_path_sdf_decoy': './S1PR1/docking/S1PR1_decoy_docking_lib_sorted.sdf',\n",
      "                 'file_path_strain_active': './S1PR1/strain/S1PR1_active_docking_lib_sorted.csv',\n",
      "                 'file_path_strain_decoy': './S1PR1/strain/S1PR1_decoy_docking_lib_sorted.csv',\n",
      "                 'title_suffix': 'S1PR1'}},\n",
      " {'output_notebook': './papermill/notebooks/gpcr_papermill_output_AA2AR.ipynb',\n",
      "  'parameters': {'file_path_sdf_active': './AA2AR/docking/AA2AR_active_docking_lib_sorted.sdf',\n",
      "                 'file_path_sdf_decoy': './AA2AR/docking/AA2AR_decoy_docking_lib_sorted.sdf',\n",
      "                 'file_path_strain_active': './AA2AR/strain/AA2AR_active_docking_lib_sorted.csv',\n",
      "                 'file_path_strain_decoy': './AA2AR/strain/AA2AR_decoy_docking_lib_sorted.csv',\n",
      "                 'title_suffix': 'AA2AR'}},\n",
      " {'output_notebook': './papermill/notebooks/gpcr_papermill_output_P2Y12.ipynb',\n",
      "  'parameters': {'file_path_sdf_active': './P2Y12/docking/P2Y12_active_docking_lib_sorted.sdf',\n",
      "                 'file_path_sdf_decoy': './P2Y12/docking/P2Y12_decoy_docking_lib_sorted.sdf',\n",
      "                 'file_path_strain_active': './P2Y12/strain/P2Y12_active_docking_lib_sorted.csv',\n",
      "                 'file_path_strain_decoy': './P2Y12/strain/P2Y12_decoy_docking_lib_sorted.csv',\n",
      "                 'title_suffix': 'P2Y12'}},\n",
      " {'output_notebook': './papermill/notebooks/gpcr_papermill_output_ADRB2.ipynb',\n",
      "  'parameters': {'file_path_sdf_active': './ADRB2/docking/ADRB2_active_docking_lib_sorted.sdf',\n",
      "                 'file_path_sdf_decoy': './ADRB2/docking/ADRB2_decoy_docking_lib_sorted.sdf',\n",
      "                 'file_path_strain_active': './ADRB2/strain/ADRB2_active_docking_lib_sorted.csv',\n",
      "                 'file_path_strain_decoy': './ADRB2/strain/ADRB2_decoy_docking_lib_sorted.csv',\n",
      "                 'title_suffix': 'ADRB2'}},\n",
      " {'output_notebook': './papermill/notebooks/gpcr_papermill_output_DRD3.ipynb',\n",
      "  'parameters': {'file_path_sdf_active': './DRD3/docking/DRD3_active_docking_lib_sorted.sdf',\n",
      "                 'file_path_sdf_decoy': './DRD3/docking/DRD3_decoy_docking_lib_sorted.sdf',\n",
      "                 'file_path_strain_active': './DRD3/strain/DRD3_active_docking_lib_sorted.csv',\n",
      "                 'file_path_strain_decoy': './DRD3/strain/DRD3_decoy_docking_lib_sorted.csv',\n",
      "                 'title_suffix': 'DRD3'}},\n",
      " {'output_notebook': './papermill/notebooks/gpcr_papermill_output_MGLUR5.ipynb',\n",
      "  'parameters': {'file_path_sdf_active': './MGLUR5/docking/MGLUR5_active_docking_lib_sorted.sdf',\n",
      "                 'file_path_sdf_decoy': './MGLUR5/docking/MGLUR5_decoy_docking_lib_sorted.sdf',\n",
      "                 'file_path_strain_active': './MGLUR5/strain/MGLUR5_active_docking_lib_sorted.csv',\n",
      "                 'file_path_strain_decoy': './MGLUR5/strain/MGLUR5_decoy_docking_lib_sorted.csv',\n",
      "                 'title_suffix': 'MGLUR5'}},\n",
      " {'output_notebook': './papermill/notebooks/gpcr_papermill_output_CCR5.ipynb',\n",
      "  'parameters': {'file_path_sdf_active': './CCR5/docking/CCR5_active_docking_lib_sorted.sdf',\n",
      "                 'file_path_sdf_decoy': './CCR5/docking/CCR5_decoy_docking_lib_sorted.sdf',\n",
      "                 'file_path_strain_active': './CCR5/strain/CCR5_active_docking_lib_sorted.csv',\n",
      "                 'file_path_strain_decoy': './CCR5/strain/CCR5_decoy_docking_lib_sorted.csv',\n",
      "                 'title_suffix': 'CCR5'}},\n",
      " {'output_notebook': './papermill/notebooks/gpcr_papermill_output_OPRD.ipynb',\n",
      "  'parameters': {'file_path_sdf_active': './OPRD/docking/OPRD_active_docking_lib_sorted.sdf',\n",
      "                 'file_path_sdf_decoy': './OPRD/docking/OPRD_decoy_docking_lib_sorted.sdf',\n",
      "                 'file_path_strain_active': './OPRD/strain/OPRD_active_docking_lib_sorted.csv',\n",
      "                 'file_path_strain_decoy': './OPRD/strain/OPRD_decoy_docking_lib_sorted.csv',\n",
      "                 'title_suffix': 'OPRD'}},\n",
      " {'output_notebook': './papermill/notebooks/gpcr_papermill_output_OPRM.ipynb',\n",
      "  'parameters': {'file_path_sdf_active': './OPRM/docking/OPRM_active_docking_lib_sorted.sdf',\n",
      "                 'file_path_sdf_decoy': './OPRM/docking/OPRM_decoy_docking_lib_sorted.sdf',\n",
      "                 'file_path_strain_active': './OPRM/strain/OPRM_active_docking_lib_sorted.csv',\n",
      "                 'file_path_strain_decoy': './OPRM/strain/OPRM_decoy_docking_lib_sorted.csv',\n",
      "                 'title_suffix': 'OPRM'}},\n",
      " {'output_notebook': './papermill/notebooks/gpcr_papermill_output_OPRX.ipynb',\n",
      "  'parameters': {'file_path_sdf_active': './OPRX/docking/OPRX_active_docking_lib_sorted.sdf',\n",
      "                 'file_path_sdf_decoy': './OPRX/docking/OPRX_decoy_docking_lib_sorted.sdf',\n",
      "                 'file_path_strain_active': './OPRX/strain/OPRX_active_docking_lib_sorted.csv',\n",
      "                 'file_path_strain_decoy': './OPRX/strain/OPRX_decoy_docking_lib_sorted.csv',\n",
      "                 'title_suffix': 'OPRX'}},\n",
      " {'output_notebook': './papermill/notebooks/gpcr_papermill_output_PAR1.ipynb',\n",
      "  'parameters': {'file_path_sdf_active': './PAR1/docking/PAR1_active_docking_lib_sorted.sdf',\n",
      "                 'file_path_sdf_decoy': './PAR1/docking/PAR1_decoy_docking_lib_sorted.sdf',\n",
      "                 'file_path_strain_active': './PAR1/strain/PAR1_active_docking_lib_sorted.csv',\n",
      "                 'file_path_strain_decoy': './PAR1/strain/PAR1_decoy_docking_lib_sorted.csv',\n",
      "                 'title_suffix': 'PAR1'}},\n",
      " {'output_notebook': './papermill/notebooks/gpcr_papermill_output_OX2R.ipynb',\n",
      "  'parameters': {'file_path_sdf_active': './OX2R/docking/OX2R_active_docking_lib_sorted.sdf',\n",
      "                 'file_path_sdf_decoy': './OX2R/docking/OX2R_decoy_docking_lib_sorted.sdf',\n",
      "                 'file_path_strain_active': './OX2R/strain/OX2R_active_docking_lib_sorted.csv',\n",
      "                 'file_path_strain_decoy': './OX2R/strain/OX2R_decoy_docking_lib_sorted.csv',\n",
      "                 'title_suffix': 'OX2R'}},\n",
      " {'output_notebook': './papermill/notebooks/gpcr_papermill_output_OPRK.ipynb',\n",
      "  'parameters': {'file_path_sdf_active': './OPRK/docking/OPRK_active_docking_lib_sorted.sdf',\n",
      "                 'file_path_sdf_decoy': './OPRK/docking/OPRK_decoy_docking_lib_sorted.sdf',\n",
      "                 'file_path_strain_active': './OPRK/strain/OPRK_active_docking_lib_sorted.csv',\n",
      "                 'file_path_strain_decoy': './OPRK/strain/OPRK_decoy_docking_lib_sorted.csv',\n",
      "                 'title_suffix': 'OPRK'}},\n",
      " {'output_notebook': './papermill/notebooks/gpcr_papermill_output_CXCR4.ipynb',\n",
      "  'parameters': {'file_path_sdf_active': './CXCR4/docking/CXCR4_active_docking_lib_sorted.sdf',\n",
      "                 'file_path_sdf_decoy': './CXCR4/docking/CXCR4_decoy_docking_lib_sorted.sdf',\n",
      "                 'file_path_strain_active': './CXCR4/strain/CXCR4_active_docking_lib_sorted.csv',\n",
      "                 'file_path_strain_decoy': './CXCR4/strain/CXCR4_decoy_docking_lib_sorted.csv',\n",
      "                 'title_suffix': 'CXCR4'}},\n",
      " {'output_notebook': './papermill/notebooks/gpcr_papermill_output_CRFR1.ipynb',\n",
      "  'parameters': {'file_path_sdf_active': './CRFR1/docking/CRFR1_active_docking_lib_sorted.sdf',\n",
      "                 'file_path_sdf_decoy': './CRFR1/docking/CRFR1_decoy_docking_lib_sorted.sdf',\n",
      "                 'file_path_strain_active': './CRFR1/strain/CRFR1_active_docking_lib_sorted.csv',\n",
      "                 'file_path_strain_decoy': './CRFR1/strain/CRFR1_decoy_docking_lib_sorted.csv',\n",
      "                 'title_suffix': 'CRFR1'}},\n",
      " {'output_notebook': './papermill/notebooks/gpcr_papermill_output_HRH1.ipynb',\n",
      "  'parameters': {'file_path_sdf_active': './HRH1/docking/HRH1_active_docking_lib_sorted.sdf',\n",
      "                 'file_path_sdf_decoy': './HRH1/docking/HRH1_decoy_docking_lib_sorted.sdf',\n",
      "                 'file_path_strain_active': './HRH1/strain/HRH1_active_docking_lib_sorted.csv',\n",
      "                 'file_path_strain_decoy': './HRH1/strain/HRH1_decoy_docking_lib_sorted.csv',\n",
      "                 'title_suffix': 'HRH1'}},\n",
      " {'output_notebook': './papermill/notebooks/gpcr_papermill_output_ADRB1.ipynb',\n",
      "  'parameters': {'file_path_sdf_active': './ADRB1/docking/ADRB1_active_docking_lib_sorted.sdf',\n",
      "                 'file_path_sdf_decoy': './ADRB1/docking/ADRB1_decoy_docking_lib_sorted.sdf',\n",
      "                 'file_path_strain_active': './ADRB1/strain/ADRB1_active_docking_lib_sorted.csv',\n",
      "                 'file_path_strain_decoy': './ADRB1/strain/ADRB1_decoy_docking_lib_sorted.csv',\n",
      "                 'title_suffix': 'ADRB1'}}]\n"
     ]
    }
   ],
   "source": [
    "pprint.pprint(parameters_list)"
   ]
  },
  {
   "cell_type": "code",
   "execution_count": null,
   "metadata": {},
   "outputs": [],
   "source": []
  }
 ],
 "metadata": {
  "kernelspec": {
   "display_name": "analytics_env",
   "language": "python",
   "name": "python3"
  },
  "language_info": {
   "codemirror_mode": {
    "name": "ipython",
    "version": 3
   },
   "file_extension": ".py",
   "mimetype": "text/x-python",
   "name": "python",
   "nbconvert_exporter": "python",
   "pygments_lexer": "ipython3",
   "version": "3.11.5"
  }
 },
 "nbformat": 4,
 "nbformat_minor": 2
}
